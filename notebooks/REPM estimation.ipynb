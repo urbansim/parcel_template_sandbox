{
 "cells": [
  {
   "cell_type": "markdown",
   "metadata": {},
   "source": [
    "# Real estate price model workflow\n",
    "\n",
    "Sam Maurer, Feb 2018  \n",
    "Python 3.6, intended to be backward compatible with 2.7"
   ]
  },
  {
   "cell_type": "code",
   "execution_count": 1,
   "metadata": {
    "collapsed": true
   },
   "outputs": [],
   "source": [
    "import orca\n",
    "from __future__ import print_function"
   ]
  },
  {
   "cell_type": "code",
   "execution_count": null,
   "metadata": {
    "collapsed": true
   },
   "outputs": [],
   "source": []
  },
  {
   "cell_type": "markdown",
   "metadata": {},
   "source": [
    "## Bootstrap Orca with some legacy registrations\n",
    "\n",
    "This exercise starts from a point where data is already registered in Orca. Eventually, the vision is that data will be loaded based on config files in the 'data' directory.\n",
    "\n",
    "For now, the 'legacy' directory contains some code from Paul Sohn's [urbansim_parcels](https://github.com/urbansim/urbansim_parcels) project. Importing 'datasources.py' and 'models.py' registers a handful of Orca objects."
   ]
  },
  {
   "cell_type": "code",
   "execution_count": 2,
   "metadata": {
    "collapsed": true
   },
   "outputs": [],
   "source": [
    "import os; os.chdir('../legacy')\n",
    "import datasources\n",
    "import models"
   ]
  },
  {
   "cell_type": "code",
   "execution_count": null,
   "metadata": {
    "collapsed": true
   },
   "outputs": [],
   "source": []
  },
  {
   "cell_type": "markdown",
   "metadata": {},
   "source": [
    "## Explore the Orca registrations"
   ]
  },
  {
   "cell_type": "code",
   "execution_count": 3,
   "metadata": {
    "collapsed": false
   },
   "outputs": [
    {
     "data": {
      "text/plain": [
       "['households', 'buildings', 'parcels', 'jobs']"
      ]
     },
     "execution_count": 3,
     "metadata": {},
     "output_type": "execute_result"
    }
   ],
   "source": [
    "orca.list_tables()"
   ]
  },
  {
   "cell_type": "code",
   "execution_count": 4,
   "metadata": {
    "collapsed": false
   },
   "outputs": [
    {
     "data": {
      "text/plain": [
       "[('households', 'node_id'), ('buildings', 'node_id'), ('jobs', 'node_id')]"
      ]
     },
     "execution_count": 4,
     "metadata": {},
     "output_type": "execute_result"
    }
   ],
   "source": [
    "orca.list_columns()"
   ]
  },
  {
   "cell_type": "code",
   "execution_count": 5,
   "metadata": {
    "collapsed": false
   },
   "outputs": [
    {
     "data": {
      "text/plain": [
       "[('parcels', 'buildings'), ('buildings', 'households'), ('buildings', 'jobs')]"
      ]
     },
     "execution_count": 5,
     "metadata": {},
     "output_type": "execute_result"
    }
   ],
   "source": [
    "orca.list_broadcasts()"
   ]
  },
  {
   "cell_type": "code",
   "execution_count": 6,
   "metadata": {
    "collapsed": false
   },
   "outputs": [
    {
     "data": {
      "text/plain": [
       "['settings', 'store', 'net_store']"
      ]
     },
     "execution_count": 6,
     "metadata": {},
     "output_type": "execute_result"
    }
   ],
   "source": [
    "orca.list_injectables()"
   ]
  },
  {
   "cell_type": "code",
   "execution_count": 7,
   "metadata": {
    "collapsed": false
   },
   "outputs": [
    {
     "data": {
      "text/plain": [
       "['build_networks', 'neighborhood_vars']"
      ]
     },
     "execution_count": 7,
     "metadata": {},
     "output_type": "execute_result"
    }
   ],
   "source": [
    "orca.list_steps()"
   ]
  },
  {
   "cell_type": "code",
   "execution_count": null,
   "metadata": {
    "collapsed": true
   },
   "outputs": [],
   "source": []
  },
  {
   "cell_type": "markdown",
   "metadata": {},
   "source": [
    "## Explore the data\n",
    "\n",
    "Orca doesn't execute code to load the registered objects until it needs to"
   ]
  },
  {
   "cell_type": "code",
   "execution_count": 8,
   "metadata": {
    "collapsed": false
   },
   "outputs": [
    {
     "data": {
      "text/html": [
       "<div>\n",
       "<style>\n",
       "    .dataframe thead tr:only-child th {\n",
       "        text-align: right;\n",
       "    }\n",
       "\n",
       "    .dataframe thead th {\n",
       "        text-align: left;\n",
       "    }\n",
       "\n",
       "    .dataframe tbody tr th {\n",
       "        vertical-align: top;\n",
       "    }\n",
       "</style>\n",
       "<table border=\"1\" class=\"dataframe\">\n",
       "  <thead>\n",
       "    <tr style=\"text-align: right;\">\n",
       "      <th></th>\n",
       "      <th>building_id</th>\n",
       "      <th>tenure</th>\n",
       "      <th>persons</th>\n",
       "      <th>workers</th>\n",
       "      <th>age_of_head</th>\n",
       "      <th>income</th>\n",
       "      <th>children</th>\n",
       "      <th>race_id</th>\n",
       "      <th>cars</th>\n",
       "      <th>base_luz</th>\n",
       "      <th>segmentation_col</th>\n",
       "      <th>node_id</th>\n",
       "    </tr>\n",
       "  </thead>\n",
       "  <tbody>\n",
       "    <tr>\n",
       "      <th>count</th>\n",
       "      <td>58671.000000</td>\n",
       "      <td>58671.000000</td>\n",
       "      <td>58671.000000</td>\n",
       "      <td>58671.000000</td>\n",
       "      <td>58671.000000</td>\n",
       "      <td>5.867100e+04</td>\n",
       "      <td>58671.000000</td>\n",
       "      <td>58671.000000</td>\n",
       "      <td>58671.000000</td>\n",
       "      <td>58671.000000</td>\n",
       "      <td>58671.0</td>\n",
       "      <td>58671.000000</td>\n",
       "    </tr>\n",
       "    <tr>\n",
       "      <th>mean</th>\n",
       "      <td>370371.030339</td>\n",
       "      <td>2.406913</td>\n",
       "      <td>2.156057</td>\n",
       "      <td>1.156534</td>\n",
       "      <td>44.336742</td>\n",
       "      <td>6.415487e+04</td>\n",
       "      <td>0.434099</td>\n",
       "      <td>2.257282</td>\n",
       "      <td>1.363859</td>\n",
       "      <td>92.911353</td>\n",
       "      <td>1.0</td>\n",
       "      <td>43541.001227</td>\n",
       "    </tr>\n",
       "    <tr>\n",
       "      <th>std</th>\n",
       "      <td>79639.958079</td>\n",
       "      <td>0.916539</td>\n",
       "      <td>1.299009</td>\n",
       "      <td>0.798054</td>\n",
       "      <td>16.097489</td>\n",
       "      <td>6.785993e+04</td>\n",
       "      <td>0.876846</td>\n",
       "      <td>1.478598</td>\n",
       "      <td>0.865866</td>\n",
       "      <td>5.210150</td>\n",
       "      <td>0.0</td>\n",
       "      <td>4304.886766</td>\n",
       "    </tr>\n",
       "    <tr>\n",
       "      <th>min</th>\n",
       "      <td>5120.000000</td>\n",
       "      <td>0.000000</td>\n",
       "      <td>1.000000</td>\n",
       "      <td>0.000000</td>\n",
       "      <td>16.000000</td>\n",
       "      <td>-9.999000e+03</td>\n",
       "      <td>0.000000</td>\n",
       "      <td>1.000000</td>\n",
       "      <td>0.000000</td>\n",
       "      <td>88.000000</td>\n",
       "      <td>1.0</td>\n",
       "      <td>36354.000000</td>\n",
       "    </tr>\n",
       "    <tr>\n",
       "      <th>25%</th>\n",
       "      <td>352274.500000</td>\n",
       "      <td>1.000000</td>\n",
       "      <td>1.000000</td>\n",
       "      <td>1.000000</td>\n",
       "      <td>31.000000</td>\n",
       "      <td>2.400000e+04</td>\n",
       "      <td>0.000000</td>\n",
       "      <td>1.000000</td>\n",
       "      <td>1.000000</td>\n",
       "      <td>89.000000</td>\n",
       "      <td>1.0</td>\n",
       "      <td>40118.000000</td>\n",
       "    </tr>\n",
       "    <tr>\n",
       "      <th>50%</th>\n",
       "      <td>363553.000000</td>\n",
       "      <td>3.000000</td>\n",
       "      <td>2.000000</td>\n",
       "      <td>1.000000</td>\n",
       "      <td>41.000000</td>\n",
       "      <td>4.500000e+04</td>\n",
       "      <td>0.000000</td>\n",
       "      <td>2.000000</td>\n",
       "      <td>1.000000</td>\n",
       "      <td>93.000000</td>\n",
       "      <td>1.0</td>\n",
       "      <td>42831.000000</td>\n",
       "    </tr>\n",
       "    <tr>\n",
       "      <th>75%</th>\n",
       "      <td>380838.500000</td>\n",
       "      <td>3.000000</td>\n",
       "      <td>3.000000</td>\n",
       "      <td>2.000000</td>\n",
       "      <td>55.000000</td>\n",
       "      <td>8.250000e+04</td>\n",
       "      <td>0.000000</td>\n",
       "      <td>2.000000</td>\n",
       "      <td>2.000000</td>\n",
       "      <td>93.000000</td>\n",
       "      <td>1.0</td>\n",
       "      <td>46564.000000</td>\n",
       "    </tr>\n",
       "    <tr>\n",
       "      <th>max</th>\n",
       "      <td>679716.000000</td>\n",
       "      <td>4.000000</td>\n",
       "      <td>11.000000</td>\n",
       "      <td>5.000000</td>\n",
       "      <td>93.000000</td>\n",
       "      <td>1.125300e+06</td>\n",
       "      <td>6.000000</td>\n",
       "      <td>8.000000</td>\n",
       "      <td>4.000000</td>\n",
       "      <td>108.000000</td>\n",
       "      <td>1.0</td>\n",
       "      <td>52612.000000</td>\n",
       "    </tr>\n",
       "  </tbody>\n",
       "</table>\n",
       "</div>"
      ],
      "text/plain": [
       "         building_id        tenure       persons       workers   age_of_head  \\\n",
       "count   58671.000000  58671.000000  58671.000000  58671.000000  58671.000000   \n",
       "mean   370371.030339      2.406913      2.156057      1.156534     44.336742   \n",
       "std     79639.958079      0.916539      1.299009      0.798054     16.097489   \n",
       "min      5120.000000      0.000000      1.000000      0.000000     16.000000   \n",
       "25%    352274.500000      1.000000      1.000000      1.000000     31.000000   \n",
       "50%    363553.000000      3.000000      2.000000      1.000000     41.000000   \n",
       "75%    380838.500000      3.000000      3.000000      2.000000     55.000000   \n",
       "max    679716.000000      4.000000     11.000000      5.000000     93.000000   \n",
       "\n",
       "             income      children       race_id          cars      base_luz  \\\n",
       "count  5.867100e+04  58671.000000  58671.000000  58671.000000  58671.000000   \n",
       "mean   6.415487e+04      0.434099      2.257282      1.363859     92.911353   \n",
       "std    6.785993e+04      0.876846      1.478598      0.865866      5.210150   \n",
       "min   -9.999000e+03      0.000000      1.000000      0.000000     88.000000   \n",
       "25%    2.400000e+04      0.000000      1.000000      1.000000     89.000000   \n",
       "50%    4.500000e+04      0.000000      2.000000      1.000000     93.000000   \n",
       "75%    8.250000e+04      0.000000      2.000000      2.000000     93.000000   \n",
       "max    1.125300e+06      6.000000      8.000000      4.000000    108.000000   \n",
       "\n",
       "       segmentation_col       node_id  \n",
       "count           58671.0  58671.000000  \n",
       "mean                1.0  43541.001227  \n",
       "std                 0.0   4304.886766  \n",
       "min                 1.0  36354.000000  \n",
       "25%                 1.0  40118.000000  \n",
       "50%                 1.0  42831.000000  \n",
       "75%                 1.0  46564.000000  \n",
       "max                 1.0  52612.000000  "
      ]
     },
     "execution_count": 8,
     "metadata": {},
     "output_type": "execute_result"
    }
   ],
   "source": [
    "orca.get_table('households').to_frame().describe()"
   ]
  },
  {
   "cell_type": "code",
   "execution_count": 9,
   "metadata": {
    "collapsed": false
   },
   "outputs": [
    {
     "name": "stdout",
     "output_type": "stream",
     "text": [
      "11\n",
      "12\n"
     ]
    }
   ],
   "source": [
    "print(len(orca.get_table('households').local_columns))  # native columns only\n",
    "print(len(orca.get_table('households').to_frame().columns))  # native plus virtual"
   ]
  },
  {
   "cell_type": "code",
   "execution_count": null,
   "metadata": {
    "collapsed": true
   },
   "outputs": [],
   "source": []
  },
  {
   "cell_type": "markdown",
   "metadata": {},
   "source": [
    "## Generate accessibility measures for the price model\n",
    "\n",
    "The network accessibility metrics are not stored on disk; for now we'll generate them using legacy code."
   ]
  },
  {
   "cell_type": "code",
   "execution_count": 10,
   "metadata": {
    "collapsed": false
   },
   "outputs": [
    {
     "name": "stdout",
     "output_type": "stream",
     "text": [
      "Running step 'build_networks'\n",
      "Time to execute step 'build_networks': 0.29 s\n",
      "Total time to execute iteration 1 with iteration value None: 0.29 s\n"
     ]
    }
   ],
   "source": [
    "orca.run(['build_networks'])"
   ]
  },
  {
   "cell_type": "code",
   "execution_count": 12,
   "metadata": {
    "collapsed": false
   },
   "outputs": [],
   "source": [
    "%%capture\n",
    "orca.run(['neighborhood_vars'])"
   ]
  },
  {
   "cell_type": "code",
   "execution_count": 13,
   "metadata": {
    "collapsed": false
   },
   "outputs": [
    {
     "data": {
      "text/plain": [
       "['households', 'buildings', 'parcels', 'jobs', 'nodes']"
      ]
     },
     "execution_count": 13,
     "metadata": {},
     "output_type": "execute_result"
    }
   ],
   "source": [
    "orca.list_tables()"
   ]
  },
  {
   "cell_type": "code",
   "execution_count": 14,
   "metadata": {
    "collapsed": false
   },
   "outputs": [
    {
     "data": {
      "text/plain": [
       "['ave_parcel_size',\n",
       " 'mean_nonres_rent_2000m',\n",
       " 'jobs_1500m',\n",
       " 'jobs_800m',\n",
       " 'jobs_400m',\n",
       " 'ave_income',\n",
       " 'ave_age_of_head_1500m',\n",
       " 'ave_children_1500m',\n",
       " 'ave_year_built_1500m',\n",
       " 'population_400m',\n",
       " 'jobs_3000m',\n",
       " 'households_3000m',\n",
       " 'residential_units_3000m',\n",
       " 'residential_units_1500m',\n",
       " 'residential_units_800m']"
      ]
     },
     "execution_count": 14,
     "metadata": {},
     "output_type": "execute_result"
    }
   ],
   "source": [
    "orca.get_table('nodes').to_frame().columns.tolist()"
   ]
  },
  {
   "cell_type": "code",
   "execution_count": null,
   "metadata": {
    "collapsed": true
   },
   "outputs": [],
   "source": []
  },
  {
   "cell_type": "code",
   "execution_count": null,
   "metadata": {
    "collapsed": true
   },
   "outputs": [],
   "source": []
  },
  {
   "cell_type": "code",
   "execution_count": null,
   "metadata": {
    "collapsed": true
   },
   "outputs": [],
   "source": []
  },
  {
   "cell_type": "code",
   "execution_count": null,
   "metadata": {
    "collapsed": true
   },
   "outputs": [],
   "source": []
  },
  {
   "cell_type": "code",
   "execution_count": null,
   "metadata": {
    "collapsed": true
   },
   "outputs": [],
   "source": []
  },
  {
   "cell_type": "code",
   "execution_count": null,
   "metadata": {
    "collapsed": true
   },
   "outputs": [],
   "source": []
  },
  {
   "cell_type": "code",
   "execution_count": null,
   "metadata": {
    "collapsed": true
   },
   "outputs": [],
   "source": []
  }
 ],
 "metadata": {
  "kernelspec": {
   "display_name": "Python 3",
   "language": "python",
   "name": "python3"
  },
  "language_info": {
   "codemirror_mode": {
    "name": "ipython",
    "version": 3
   },
   "file_extension": ".py",
   "mimetype": "text/x-python",
   "name": "python",
   "nbconvert_exporter": "python",
   "pygments_lexer": "ipython3",
   "version": "3.6.0"
  }
 },
 "nbformat": 4,
 "nbformat_minor": 2
}
