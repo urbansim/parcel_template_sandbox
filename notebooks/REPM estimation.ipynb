{
 "cells": [
  {
   "cell_type": "markdown",
   "metadata": {},
   "source": [
    "# Real estate price model workflow\n",
    "\n",
    "Sam Maurer, Feb 2018  \n",
    "Python 3.6, intended to be backward compatible with 2.7"
   ]
  },
  {
   "cell_type": "code",
   "execution_count": 1,
   "metadata": {
    "collapsed": false
   },
   "outputs": [],
   "source": [
    "from __future__ import print_function\n",
    "\n",
    "import numpy as np\n",
    "import pandas as pd\n",
    "\n",
    "import orca"
   ]
  },
  {
   "cell_type": "code",
   "execution_count": 2,
   "metadata": {
    "collapsed": false
   },
   "outputs": [],
   "source": [
    "# Import scripts from this repository\n",
    "import os; os.chdir('../')\n",
    "\n",
    "from extensions import modelmanager as mm\n",
    "from models import RegressionStep"
   ]
  },
  {
   "cell_type": "code",
   "execution_count": null,
   "metadata": {
    "collapsed": true
   },
   "outputs": [],
   "source": []
  },
  {
   "cell_type": "markdown",
   "metadata": {},
   "source": [
    "## Bootstrap Orca with some legacy registrations\n",
    "\n",
    "This exercise starts from a point where data is already registered in Orca. Eventually, the vision is that data will be loaded based on config files in the 'data' directory.\n",
    "\n",
    "For now, the 'legacy' directory contains some code from Paul Sohn's [urbansim_parcels](https://github.com/urbansim/urbansim_parcels) project. Importing 'datasources.py' and 'models.py' registers a handful of Orca objects."
   ]
  },
  {
   "cell_type": "code",
   "execution_count": 3,
   "metadata": {
    "collapsed": false
   },
   "outputs": [],
   "source": [
    "os.chdir('legacy')\n",
    "import legacy_datasources\n",
    "import legacy_models"
   ]
  },
  {
   "cell_type": "code",
   "execution_count": null,
   "metadata": {
    "collapsed": true
   },
   "outputs": [],
   "source": []
  },
  {
   "cell_type": "markdown",
   "metadata": {},
   "source": [
    "## Explore the Orca registrations"
   ]
  },
  {
   "cell_type": "code",
   "execution_count": 4,
   "metadata": {
    "collapsed": false
   },
   "outputs": [
    {
     "data": {
      "text/plain": [
       "['households', 'buildings', 'parcels', 'jobs']"
      ]
     },
     "execution_count": 4,
     "metadata": {},
     "output_type": "execute_result"
    }
   ],
   "source": [
    "orca.list_tables()"
   ]
  },
  {
   "cell_type": "code",
   "execution_count": 5,
   "metadata": {
    "collapsed": false
   },
   "outputs": [
    {
     "data": {
      "text/plain": [
       "[('households', 'node_id'), ('buildings', 'node_id'), ('jobs', 'node_id')]"
      ]
     },
     "execution_count": 5,
     "metadata": {},
     "output_type": "execute_result"
    }
   ],
   "source": [
    "orca.list_columns()"
   ]
  },
  {
   "cell_type": "code",
   "execution_count": 6,
   "metadata": {
    "collapsed": false
   },
   "outputs": [
    {
     "data": {
      "text/plain": [
       "[('parcels', 'buildings'),\n",
       " ('buildings', 'households'),\n",
       " ('buildings', 'jobs'),\n",
       " ('nodes', 'buildings')]"
      ]
     },
     "execution_count": 6,
     "metadata": {},
     "output_type": "execute_result"
    }
   ],
   "source": [
    "orca.list_broadcasts()"
   ]
  },
  {
   "cell_type": "code",
   "execution_count": 7,
   "metadata": {
    "collapsed": false
   },
   "outputs": [
    {
     "data": {
      "text/plain": [
       "['settings', 'store', 'net_store']"
      ]
     },
     "execution_count": 7,
     "metadata": {},
     "output_type": "execute_result"
    }
   ],
   "source": [
    "orca.list_injectables()"
   ]
  },
  {
   "cell_type": "code",
   "execution_count": 8,
   "metadata": {
    "collapsed": false
   },
   "outputs": [
    {
     "data": {
      "text/plain": [
       "['build_networks', 'neighborhood_vars']"
      ]
     },
     "execution_count": 8,
     "metadata": {},
     "output_type": "execute_result"
    }
   ],
   "source": [
    "orca.list_steps()"
   ]
  },
  {
   "cell_type": "code",
   "execution_count": null,
   "metadata": {
    "collapsed": true
   },
   "outputs": [],
   "source": []
  },
  {
   "cell_type": "markdown",
   "metadata": {},
   "source": [
    "## Explore the data\n",
    "\n",
    "Orca doesn't execute code to load the registered objects until it needs to.\n",
    "\n",
    "(Note that there's a problem in the data: only about 2,000 buildings have a 'node_id' linking them to the network aggregations table. This is going to affect the network calculations, and also limit our ability to estimate models.)"
   ]
  },
  {
   "cell_type": "code",
   "execution_count": 9,
   "metadata": {
    "collapsed": false
   },
   "outputs": [
    {
     "data": {
      "text/html": [
       "<div>\n",
       "<style>\n",
       "    .dataframe thead tr:only-child th {\n",
       "        text-align: right;\n",
       "    }\n",
       "\n",
       "    .dataframe thead th {\n",
       "        text-align: left;\n",
       "    }\n",
       "\n",
       "    .dataframe tbody tr th {\n",
       "        vertical-align: top;\n",
       "    }\n",
       "</style>\n",
       "<table border=\"1\" class=\"dataframe\">\n",
       "  <thead>\n",
       "    <tr style=\"text-align: right;\">\n",
       "      <th></th>\n",
       "      <th>parcel_id</th>\n",
       "      <th>development_type_id</th>\n",
       "      <th>improvement_value</th>\n",
       "      <th>residential_units</th>\n",
       "      <th>non_residential_sqft</th>\n",
       "      <th>stories</th>\n",
       "      <th>year_built</th>\n",
       "      <th>residential_sqft</th>\n",
       "      <th>res_price_per_sqft</th>\n",
       "      <th>node_id</th>\n",
       "    </tr>\n",
       "  </thead>\n",
       "  <tbody>\n",
       "    <tr>\n",
       "      <th>count</th>\n",
       "      <td>5.917200e+04</td>\n",
       "      <td>59172.000000</td>\n",
       "      <td>5.917200e+04</td>\n",
       "      <td>59172.000000</td>\n",
       "      <td>5.917200e+04</td>\n",
       "      <td>59172.000000</td>\n",
       "      <td>59172.000000</td>\n",
       "      <td>5.917200e+04</td>\n",
       "      <td>59172.000000</td>\n",
       "      <td>2182.000000</td>\n",
       "    </tr>\n",
       "    <tr>\n",
       "      <th>mean</th>\n",
       "      <td>1.824953e+06</td>\n",
       "      <td>19.335733</td>\n",
       "      <td>5.938045e+05</td>\n",
       "      <td>3.662661</td>\n",
       "      <td>8.495205e+03</td>\n",
       "      <td>1.081170</td>\n",
       "      <td>1979.705486</td>\n",
       "      <td>1.303178e+04</td>\n",
       "      <td>214.760125</td>\n",
       "      <td>44284.095325</td>\n",
       "    </tr>\n",
       "    <tr>\n",
       "      <th>std</th>\n",
       "      <td>2.138605e+06</td>\n",
       "      <td>0.663925</td>\n",
       "      <td>2.823604e+06</td>\n",
       "      <td>13.734032</td>\n",
       "      <td>4.363458e+04</td>\n",
       "      <td>0.381794</td>\n",
       "      <td>20.675804</td>\n",
       "      <td>4.544811e+04</td>\n",
       "      <td>317.965487</td>\n",
       "      <td>4104.251504</td>\n",
       "    </tr>\n",
       "    <tr>\n",
       "      <th>min</th>\n",
       "      <td>2.900000e+01</td>\n",
       "      <td>19.000000</td>\n",
       "      <td>0.000000e+00</td>\n",
       "      <td>1.000000</td>\n",
       "      <td>0.000000e+00</td>\n",
       "      <td>1.000000</td>\n",
       "      <td>1913.000000</td>\n",
       "      <td>5.000000e+01</td>\n",
       "      <td>0.000220</td>\n",
       "      <td>36360.000000</td>\n",
       "    </tr>\n",
       "    <tr>\n",
       "      <th>25%</th>\n",
       "      <td>2.894475e+05</td>\n",
       "      <td>19.000000</td>\n",
       "      <td>1.071312e+05</td>\n",
       "      <td>1.000000</td>\n",
       "      <td>0.000000e+00</td>\n",
       "      <td>1.000000</td>\n",
       "      <td>1965.000000</td>\n",
       "      <td>1.472000e+03</td>\n",
       "      <td>133.098672</td>\n",
       "      <td>41131.000000</td>\n",
       "    </tr>\n",
       "    <tr>\n",
       "      <th>50%</th>\n",
       "      <td>5.873640e+05</td>\n",
       "      <td>19.000000</td>\n",
       "      <td>1.750000e+05</td>\n",
       "      <td>1.000000</td>\n",
       "      <td>0.000000e+00</td>\n",
       "      <td>1.000000</td>\n",
       "      <td>1981.000000</td>\n",
       "      <td>2.122000e+03</td>\n",
       "      <td>191.676955</td>\n",
       "      <td>43936.500000</td>\n",
       "    </tr>\n",
       "    <tr>\n",
       "      <th>75%</th>\n",
       "      <td>5.032626e+06</td>\n",
       "      <td>19.000000</td>\n",
       "      <td>3.022590e+05</td>\n",
       "      <td>1.000000</td>\n",
       "      <td>0.000000e+00</td>\n",
       "      <td>1.000000</td>\n",
       "      <td>1998.000000</td>\n",
       "      <td>3.601000e+03</td>\n",
       "      <td>258.776213</td>\n",
       "      <td>47438.000000</td>\n",
       "    </tr>\n",
       "    <tr>\n",
       "      <th>max</th>\n",
       "      <td>5.293696e+06</td>\n",
       "      <td>21.000000</td>\n",
       "      <td>1.800000e+08</td>\n",
       "      <td>679.000000</td>\n",
       "      <td>1.197079e+06</td>\n",
       "      <td>29.000000</td>\n",
       "      <td>2012.000000</td>\n",
       "      <td>1.197079e+06</td>\n",
       "      <td>21770.833333</td>\n",
       "      <td>52513.000000</td>\n",
       "    </tr>\n",
       "  </tbody>\n",
       "</table>\n",
       "</div>"
      ],
      "text/plain": [
       "          parcel_id  development_type_id  improvement_value  \\\n",
       "count  5.917200e+04         59172.000000       5.917200e+04   \n",
       "mean   1.824953e+06            19.335733       5.938045e+05   \n",
       "std    2.138605e+06             0.663925       2.823604e+06   \n",
       "min    2.900000e+01            19.000000       0.000000e+00   \n",
       "25%    2.894475e+05            19.000000       1.071312e+05   \n",
       "50%    5.873640e+05            19.000000       1.750000e+05   \n",
       "75%    5.032626e+06            19.000000       3.022590e+05   \n",
       "max    5.293696e+06            21.000000       1.800000e+08   \n",
       "\n",
       "       residential_units  non_residential_sqft       stories    year_built  \\\n",
       "count       59172.000000          5.917200e+04  59172.000000  59172.000000   \n",
       "mean            3.662661          8.495205e+03      1.081170   1979.705486   \n",
       "std            13.734032          4.363458e+04      0.381794     20.675804   \n",
       "min             1.000000          0.000000e+00      1.000000   1913.000000   \n",
       "25%             1.000000          0.000000e+00      1.000000   1965.000000   \n",
       "50%             1.000000          0.000000e+00      1.000000   1981.000000   \n",
       "75%             1.000000          0.000000e+00      1.000000   1998.000000   \n",
       "max           679.000000          1.197079e+06     29.000000   2012.000000   \n",
       "\n",
       "       residential_sqft  res_price_per_sqft       node_id  \n",
       "count      5.917200e+04        59172.000000   2182.000000  \n",
       "mean       1.303178e+04          214.760125  44284.095325  \n",
       "std        4.544811e+04          317.965487   4104.251504  \n",
       "min        5.000000e+01            0.000220  36360.000000  \n",
       "25%        1.472000e+03          133.098672  41131.000000  \n",
       "50%        2.122000e+03          191.676955  43936.500000  \n",
       "75%        3.601000e+03          258.776213  47438.000000  \n",
       "max        1.197079e+06        21770.833333  52513.000000  "
      ]
     },
     "execution_count": 9,
     "metadata": {},
     "output_type": "execute_result"
    }
   ],
   "source": [
    "orca.get_table('buildings').to_frame().describe()"
   ]
  },
  {
   "cell_type": "code",
   "execution_count": 10,
   "metadata": {
    "collapsed": false
   },
   "outputs": [
    {
     "name": "stdout",
     "output_type": "stream",
     "text": [
      "10\n",
      "11\n"
     ]
    }
   ],
   "source": [
    "print(len(orca.get_table('buildings').local_columns))  # native columns only\n",
    "print(len(orca.get_table('buildings').to_frame().columns))  # native plus virtual"
   ]
  },
  {
   "cell_type": "code",
   "execution_count": null,
   "metadata": {
    "collapsed": true
   },
   "outputs": [],
   "source": []
  },
  {
   "cell_type": "markdown",
   "metadata": {},
   "source": [
    "## Generate accessibility measures for the price model\n",
    "\n",
    "The network accessibility metrics are not stored on disk; for now we'll generate them using legacy code."
   ]
  },
  {
   "cell_type": "code",
   "execution_count": 11,
   "metadata": {
    "collapsed": false
   },
   "outputs": [
    {
     "name": "stdout",
     "output_type": "stream",
     "text": [
      "Running step 'build_networks'\n",
      "Time to execute step 'build_networks': 0.30 s\n",
      "Total time to execute iteration 1 with iteration value None: 0.30 s\n"
     ]
    }
   ],
   "source": [
    "orca.run(['build_networks'])"
   ]
  },
  {
   "cell_type": "code",
   "execution_count": 12,
   "metadata": {
    "collapsed": false
   },
   "outputs": [],
   "source": [
    "%%capture\n",
    "orca.run(['neighborhood_vars'])"
   ]
  },
  {
   "cell_type": "code",
   "execution_count": 13,
   "metadata": {
    "collapsed": false
   },
   "outputs": [
    {
     "data": {
      "text/plain": [
       "['households', 'buildings', 'parcels', 'jobs', 'nodes']"
      ]
     },
     "execution_count": 13,
     "metadata": {},
     "output_type": "execute_result"
    }
   ],
   "source": [
    "orca.list_tables()"
   ]
  },
  {
   "cell_type": "code",
   "execution_count": 14,
   "metadata": {
    "collapsed": false
   },
   "outputs": [
    {
     "name": "stdout",
     "output_type": "stream",
     "text": [
      "['ave_parcel_size', 'jobs_1500m', 'jobs_800m', 'jobs_400m', 'ave_income', 'ave_age_of_head_1500m', 'ave_children_1500m', 'ave_year_built_1500m', 'population_400m', 'jobs_3000m', 'households_3000m', 'residential_units_3000m', 'residential_units_1500m', 'residential_units_800m']\n"
     ]
    }
   ],
   "source": [
    "print(orca.get_table('nodes').to_frame().columns.tolist())"
   ]
  },
  {
   "cell_type": "code",
   "execution_count": null,
   "metadata": {
    "collapsed": true
   },
   "outputs": [],
   "source": []
  },
  {
   "cell_type": "markdown",
   "metadata": {
    "collapsed": true
   },
   "source": [
    "## Display all the registered data columns"
   ]
  },
  {
   "cell_type": "code",
   "execution_count": 15,
   "metadata": {
    "collapsed": false
   },
   "outputs": [
    {
     "name": "stdout",
     "output_type": "stream",
     "text": [
      "HOUSEHOLDS\n",
      "['building_id', 'tenure', 'persons', 'workers', 'age_of_head', 'income', 'children', 'race_id', 'cars', 'base_luz', 'segmentation_col', 'node_id']\n",
      "\n",
      "BUILDINGS\n",
      "['parcel_id', 'development_type_id', 'improvement_value', 'residential_units', 'non_residential_sqft', 'stories', 'year_built', 'residential_sqft', 'note', 'res_price_per_sqft', 'node_id']\n",
      "\n",
      "PARCELS\n",
      "['parcel_acres', 'development_type_id', 'distance_to_park', 'zoning_id', 'y', 'node_id', 'distance_to_school', 'distance_to_freeway', 'distance_to_onramp', 'mgra_id', 'proportion_undevelopable', 'taz_id', 'distance_to_transit', 'tax_exempt', 'distance_to_coast', 'luz_id', 'land_value', 'county_id', 'msa_id', 'x', 'acres']\n",
      "\n",
      "JOBS\n",
      "['sector_id', 'building_id', 'node_id']\n",
      "\n",
      "NODES\n",
      "['ave_parcel_size', 'jobs_1500m', 'jobs_800m', 'jobs_400m', 'ave_income', 'ave_age_of_head_1500m', 'ave_children_1500m', 'ave_year_built_1500m', 'population_400m', 'jobs_3000m', 'households_3000m', 'residential_units_3000m', 'residential_units_1500m', 'residential_units_800m']\n",
      "\n"
     ]
    }
   ],
   "source": [
    "for table_name in orca.list_tables():\n",
    "    print(table_name.upper())\n",
    "    print(orca.get_table(table_name).to_frame().columns.tolist())\n",
    "    print()"
   ]
  },
  {
   "cell_type": "code",
   "execution_count": 16,
   "metadata": {
    "collapsed": false
   },
   "outputs": [
    {
     "data": {
      "text/plain": [
       "[('parcels', 'buildings'),\n",
       " ('buildings', 'households'),\n",
       " ('buildings', 'jobs'),\n",
       " ('nodes', 'buildings')]"
      ]
     },
     "execution_count": 16,
     "metadata": {},
     "output_type": "execute_result"
    }
   ],
   "source": [
    "# These are the tables with direct relational links\n",
    "\n",
    "orca.list_broadcasts()"
   ]
  },
  {
   "cell_type": "code",
   "execution_count": null,
   "metadata": {
    "collapsed": true
   },
   "outputs": [],
   "source": []
  },
  {
   "cell_type": "markdown",
   "metadata": {},
   "source": [
    "# Estimate a price model\n",
    "\n",
    "The basic idea of the parcel template is that we create model steps by _passing arguments to classes_ rather than by writing Python functions and giving them Orca decorators, as we would for a fully custom model.\n",
    "\n",
    "Much of the functionality for this is already built into UrbanSim and Orca, we'll just need to extend things here and there.\n",
    "\n",
    "This demo uses a new RegressionStep() class that provides a full model development workflow: estimating a model, registering it with Orca, saving it for future use."
   ]
  },
  {
   "cell_type": "markdown",
   "metadata": {},
   "source": [
    "### Specify parameters and pass them to a model object"
   ]
  },
  {
   "cell_type": "code",
   "execution_count": 17,
   "metadata": {
    "collapsed": false
   },
   "outputs": [],
   "source": [
    "# Specify the model expression and names of tables to draw data from (the first table\n",
    "# is the primary one; additional tables must be able to merge onto it unambiguously)\n",
    "\n",
    "tables = ['buildings', 'parcels', 'nodes']\n",
    "\n",
    "model_expression = (\n",
    "    \"np.log1p(res_price_per_sqft) ~ \"\n",
    "        \"parcel_acres + \"\n",
    "        \"year_built + \"\n",
    "        \"ave_income + \"\n",
    "        \"distance_to_freeway + \"\n",
    "        \"population_400m + \"\n",
    "        \"jobs_3000m\")\n",
    "\n",
    "# For prediction, specify destination column (if different from the dependent variable\n",
    "# used for estimation), and how to reverse the left-hand-side transformation\n",
    "\n",
    "out_fname = 'fitted_price'\n",
    "ytransform = np.exp"
   ]
  },
  {
   "cell_type": "code",
   "execution_count": 38,
   "metadata": {
    "collapsed": false
   },
   "outputs": [],
   "source": [
    "# Generate a new column to store the fitted prices\n",
    "\n",
    "zeros = np.repeat(0.0, len(orca.get_table('buildings')))\n",
    "orca.get_table('buildings').update_col('fitted_price', zeros)"
   ]
  },
  {
   "cell_type": "code",
   "execution_count": 19,
   "metadata": {
    "collapsed": true
   },
   "outputs": [],
   "source": [
    "# Create the model object\n",
    "\n",
    "model = RegressionStep(model_expression, tables, \n",
    "                       out_fname=out_fname, ytransform=ytransform)"
   ]
  },
  {
   "cell_type": "code",
   "execution_count": null,
   "metadata": {
    "collapsed": false
   },
   "outputs": [],
   "source": []
  },
  {
   "cell_type": "markdown",
   "metadata": {},
   "source": [
    "### Fit the model"
   ]
  },
  {
   "cell_type": "code",
   "execution_count": 20,
   "metadata": {
    "collapsed": false
   },
   "outputs": [
    {
     "name": "stdout",
     "output_type": "stream",
     "text": [
      "                                 OLS Regression Results                                 \n",
      "========================================================================================\n",
      "Dep. Variable:     np.log1p(res_price_per_sqft)   R-squared:                       0.481\n",
      "Model:                                      OLS   Adj. R-squared:                  0.479\n",
      "Method:                           Least Squares   F-statistic:                     335.3\n",
      "Date:                          Sun, 11 Feb 2018   Prob (F-statistic):          6.74e-305\n",
      "Time:                                  19:05:47   Log-Likelihood:                -2702.5\n",
      "No. Observations:                          2182   AIC:                             5419.\n",
      "Df Residuals:                              2175   BIC:                             5459.\n",
      "Df Model:                                     6                                         \n",
      "Covariance Type:                      nonrobust                                         \n",
      "=======================================================================================\n",
      "                          coef    std err          t      P>|t|      [0.025      0.975]\n",
      "---------------------------------------------------------------------------------------\n",
      "Intercept              40.0987      1.443     27.797      0.000      37.270      42.928\n",
      "parcel_acres           -1.3333      0.065    -20.555      0.000      -1.460      -1.206\n",
      "year_built             -0.0183      0.001    -27.252      0.000      -0.020      -0.017\n",
      "ave_income              0.2307      0.059      3.895      0.000       0.115       0.347\n",
      "distance_to_freeway  1.718e-05   1.39e-05      1.238      0.216      -1e-05    4.44e-05\n",
      "population_400m        -0.3233      0.020    -15.921      0.000      -0.363      -0.283\n",
      "jobs_3000m              0.0052      0.002      2.244      0.025       0.001       0.010\n",
      "==============================================================================\n",
      "Omnibus:                      123.960   Durbin-Watson:                   1.783\n",
      "Prob(Omnibus):                  0.000   Jarque-Bera (JB):              336.526\n",
      "Skew:                          -0.289   Prob(JB):                     8.40e-74\n",
      "Kurtosis:                       4.835   Cond. No.                     2.40e+05\n",
      "==============================================================================\n",
      "\n",
      "Warnings:\n",
      "[1] Standard Errors assume that the covariance matrix of the errors is correctly specified.\n",
      "[2] The condition number is large, 2.4e+05. This might indicate that there are\n",
      "strong multicollinearity or other numerical problems.\n"
     ]
    }
   ],
   "source": [
    "model.fit()"
   ]
  },
  {
   "cell_type": "code",
   "execution_count": null,
   "metadata": {
    "collapsed": false
   },
   "outputs": [],
   "source": []
  },
  {
   "cell_type": "markdown",
   "metadata": {},
   "source": [
    "### If we like it, register it as an Orca step"
   ]
  },
  {
   "cell_type": "code",
   "execution_count": 49,
   "metadata": {
    "collapsed": true
   },
   "outputs": [],
   "source": [
    "model.register()"
   ]
  },
  {
   "cell_type": "code",
   "execution_count": 50,
   "metadata": {
    "collapsed": false
   },
   "outputs": [
    {
     "data": {
      "text/plain": [
       "['build_networks',\n",
       " 'neighborhood_vars',\n",
       " 'RegressionStep-20180211-190547',\n",
       " 'RegressionStep-20180211-190813']"
      ]
     },
     "execution_count": 50,
     "metadata": {},
     "output_type": "execute_result"
    }
   ],
   "source": [
    "orca.list_steps()"
   ]
  },
  {
   "cell_type": "code",
   "execution_count": null,
   "metadata": {
    "collapsed": true
   },
   "outputs": [],
   "source": []
  },
  {
   "cell_type": "markdown",
   "metadata": {},
   "source": [
    "### Run the model step"
   ]
  },
  {
   "cell_type": "code",
   "execution_count": 51,
   "metadata": {
    "collapsed": false
   },
   "outputs": [
    {
     "name": "stdout",
     "output_type": "stream",
     "text": [
      "Running step 'RegressionStep-20180211-190547'\n",
      "Predicted 2182 values\n",
      "Time to execute step 'RegressionStep-20180211-190547': 0.05 s\n",
      "Total time to execute iteration 1 with iteration value None: 0.06 s\n"
     ]
    }
   ],
   "source": [
    "orca.run(['RegressionStep-20180211-190547'])"
   ]
  },
  {
   "cell_type": "code",
   "execution_count": null,
   "metadata": {
    "collapsed": true
   },
   "outputs": [],
   "source": []
  },
  {
   "cell_type": "markdown",
   "metadata": {},
   "source": [
    "### Check the fitted values"
   ]
  },
  {
   "cell_type": "code",
   "execution_count": 52,
   "metadata": {
    "collapsed": false
   },
   "outputs": [
    {
     "data": {
      "text/html": [
       "<div>\n",
       "<style>\n",
       "    .dataframe thead tr:only-child th {\n",
       "        text-align: right;\n",
       "    }\n",
       "\n",
       "    .dataframe thead th {\n",
       "        text-align: left;\n",
       "    }\n",
       "\n",
       "    .dataframe tbody tr th {\n",
       "        vertical-align: top;\n",
       "    }\n",
       "</style>\n",
       "<table border=\"1\" class=\"dataframe\">\n",
       "  <thead>\n",
       "    <tr style=\"text-align: right;\">\n",
       "      <th></th>\n",
       "      <th>res_price_per_sqft</th>\n",
       "      <th>fitted_price</th>\n",
       "    </tr>\n",
       "  </thead>\n",
       "  <tbody>\n",
       "    <tr>\n",
       "      <th>count</th>\n",
       "      <td>2182.000000</td>\n",
       "      <td>2182.000000</td>\n",
       "    </tr>\n",
       "    <tr>\n",
       "      <th>mean</th>\n",
       "      <td>243.849936</td>\n",
       "      <td>206.818870</td>\n",
       "    </tr>\n",
       "    <tr>\n",
       "      <th>std</th>\n",
       "      <td>162.403472</td>\n",
       "      <td>137.454712</td>\n",
       "    </tr>\n",
       "    <tr>\n",
       "      <th>min</th>\n",
       "      <td>0.974158</td>\n",
       "      <td>0.007513</td>\n",
       "    </tr>\n",
       "    <tr>\n",
       "      <th>25%</th>\n",
       "      <td>128.734794</td>\n",
       "      <td>89.025805</td>\n",
       "    </tr>\n",
       "    <tr>\n",
       "      <th>50%</th>\n",
       "      <td>228.539201</td>\n",
       "      <td>191.793083</td>\n",
       "    </tr>\n",
       "    <tr>\n",
       "      <th>75%</th>\n",
       "      <td>365.494447</td>\n",
       "      <td>278.324228</td>\n",
       "    </tr>\n",
       "    <tr>\n",
       "      <th>max</th>\n",
       "      <td>1125.000000</td>\n",
       "      <td>1484.329439</td>\n",
       "    </tr>\n",
       "  </tbody>\n",
       "</table>\n",
       "</div>"
      ],
      "text/plain": [
       "       res_price_per_sqft  fitted_price\n",
       "count         2182.000000   2182.000000\n",
       "mean           243.849936    206.818870\n",
       "std            162.403472    137.454712\n",
       "min              0.974158      0.007513\n",
       "25%            128.734794     89.025805\n",
       "50%            228.539201    191.793083\n",
       "75%            365.494447    278.324228\n",
       "max           1125.000000   1484.329439"
      ]
     },
     "execution_count": 52,
     "metadata": {},
     "output_type": "execute_result"
    }
   ],
   "source": [
    "df = orca.get_table('buildings').to_frame(['res_price_per_sqft', 'fitted_price'])\n",
    "df.loc[df.fitted_price > 0].describe()"
   ]
  },
  {
   "cell_type": "code",
   "execution_count": null,
   "metadata": {
    "collapsed": true
   },
   "outputs": [],
   "source": []
  },
  {
   "cell_type": "markdown",
   "metadata": {},
   "source": [
    "### BONUS\n",
    "\n",
    "Running \"model.register()\" also registered the step with the new ModelManager extention, which saved it to disk so that it can be automatically re-loaded in the future."
   ]
  },
  {
   "cell_type": "markdown",
   "metadata": {},
   "source": []
  },
  {
   "cell_type": "code",
   "execution_count": null,
   "metadata": {
    "collapsed": true
   },
   "outputs": [],
   "source": []
  },
  {
   "cell_type": "code",
   "execution_count": null,
   "metadata": {
    "collapsed": true
   },
   "outputs": [],
   "source": []
  },
  {
   "cell_type": "code",
   "execution_count": 21,
   "metadata": {
    "collapsed": false
   },
   "outputs": [],
   "source": [
    "d = model.to_dict()"
   ]
  },
  {
   "cell_type": "code",
   "execution_count": 22,
   "metadata": {
    "collapsed": false
   },
   "outputs": [
    {
     "name": "stdout",
     "output_type": "stream",
     "text": [
      "Predicted 2182 values\n"
     ]
    }
   ],
   "source": [
    "RegressionStep.run_from_dict(d)"
   ]
  },
  {
   "cell_type": "code",
   "execution_count": 26,
   "metadata": {
    "collapsed": true
   },
   "outputs": [],
   "source": [
    "model.register()"
   ]
  },
  {
   "cell_type": "code",
   "execution_count": 34,
   "metadata": {
    "collapsed": false
   },
   "outputs": [
    {
     "data": {
      "text/plain": [
       "['build_networks',\n",
       " 'neighborhood_vars',\n",
       " 'RegressionStep-20180211-190547',\n",
       " 'RegressionStep-20180211-190813']"
      ]
     },
     "execution_count": 34,
     "metadata": {},
     "output_type": "execute_result"
    }
   ],
   "source": [
    "orca.list_steps()"
   ]
  },
  {
   "cell_type": "code",
   "execution_count": 47,
   "metadata": {
    "collapsed": false
   },
   "outputs": [
    {
     "name": "stdout",
     "output_type": "stream",
     "text": [
      "Running step 'RegressionStep-20180211-190547'\n",
      "Predicted 2182 values\n",
      "Time to execute step 'RegressionStep-20180211-190547': 0.06 s\n",
      "Total time to execute iteration 1 with iteration value None: 0.06 s\n"
     ]
    }
   ],
   "source": [
    "orca.run(['RegressionStep-20180211-190547'])"
   ]
  },
  {
   "cell_type": "code",
   "execution_count": null,
   "metadata": {
    "collapsed": true
   },
   "outputs": [],
   "source": [
    "# Register a second one and make sure we can run them separately"
   ]
  },
  {
   "cell_type": "code",
   "execution_count": null,
   "metadata": {
    "collapsed": true
   },
   "outputs": [],
   "source": []
  },
  {
   "cell_type": "code",
   "execution_count": null,
   "metadata": {
    "collapsed": true
   },
   "outputs": [],
   "source": []
  },
  {
   "cell_type": "code",
   "execution_count": null,
   "metadata": {
    "collapsed": true
   },
   "outputs": [],
   "source": []
  },
  {
   "cell_type": "code",
   "execution_count": 29,
   "metadata": {
    "collapsed": true
   },
   "outputs": [],
   "source": [
    "tables = ['buildings', 'parcels']\n",
    "\n",
    "model_expression = (\n",
    "    \"np.log1p(res_price_per_sqft) ~ \"\n",
    "        \"parcel_acres + \"\n",
    "        \"year_built\")\n",
    "\n",
    "# For prediction, specify destination column (if different from the dependent variable\n",
    "# used for estimation), and how to reverse the left-hand-side transformation\n",
    "\n",
    "out_fname = 'fitted_price'\n",
    "ytransform = np.exp"
   ]
  },
  {
   "cell_type": "code",
   "execution_count": 30,
   "metadata": {
    "collapsed": true
   },
   "outputs": [],
   "source": [
    "model = RegressionStep(model_expression, tables, \n",
    "                       out_fname=out_fname, ytransform=ytransform)"
   ]
  },
  {
   "cell_type": "code",
   "execution_count": 31,
   "metadata": {
    "collapsed": false
   },
   "outputs": [
    {
     "name": "stdout",
     "output_type": "stream",
     "text": [
      "                                 OLS Regression Results                                 \n",
      "========================================================================================\n",
      "Dep. Variable:     np.log1p(res_price_per_sqft)   R-squared:                       0.395\n",
      "Model:                                      OLS   Adj. R-squared:                  0.395\n",
      "Method:                           Least Squares   F-statistic:                     712.3\n",
      "Date:                          Sun, 11 Feb 2018   Prob (F-statistic):          9.49e-239\n",
      "Time:                                  19:08:13   Log-Likelihood:                -2868.1\n",
      "No. Observations:                          2182   AIC:                             5742.\n",
      "Df Residuals:                              2179   BIC:                             5759.\n",
      "Df Model:                                     2                                         \n",
      "Covariance Type:                      nonrobust                                         \n",
      "================================================================================\n",
      "                   coef    std err          t      P>|t|      [0.025      0.975]\n",
      "--------------------------------------------------------------------------------\n",
      "Intercept       44.2203      1.398     31.623      0.000      41.478      46.962\n",
      "parcel_acres    -1.3573      0.070    -19.460      0.000      -1.494      -1.221\n",
      "year_built      -0.0199      0.001    -27.772      0.000      -0.021      -0.018\n",
      "==============================================================================\n",
      "Omnibus:                      131.758   Durbin-Watson:                   1.583\n",
      "Prob(Omnibus):                  0.000   Jarque-Bera (JB):              231.286\n",
      "Skew:                          -0.454   Prob(JB):                     5.98e-51\n",
      "Kurtosis:                       4.311   Cond. No.                     1.42e+05\n",
      "==============================================================================\n",
      "\n",
      "Warnings:\n",
      "[1] Standard Errors assume that the covariance matrix of the errors is correctly specified.\n",
      "[2] The condition number is large, 1.42e+05. This might indicate that there are\n",
      "strong multicollinearity or other numerical problems.\n"
     ]
    }
   ],
   "source": [
    "model.fit()"
   ]
  },
  {
   "cell_type": "code",
   "execution_count": 44,
   "metadata": {
    "collapsed": true
   },
   "outputs": [],
   "source": [
    "model.register()"
   ]
  },
  {
   "cell_type": "code",
   "execution_count": null,
   "metadata": {
    "collapsed": true
   },
   "outputs": [],
   "source": []
  },
  {
   "cell_type": "code",
   "execution_count": null,
   "metadata": {
    "collapsed": true
   },
   "outputs": [],
   "source": []
  },
  {
   "cell_type": "code",
   "execution_count": 23,
   "metadata": {
    "collapsed": false
   },
   "outputs": [
    {
     "name": "stdout",
     "output_type": "stream",
     "text": [
      "Predicted 2182 values\n"
     ]
    }
   ],
   "source": [
    "model.run()"
   ]
  },
  {
   "cell_type": "code",
   "execution_count": 48,
   "metadata": {
    "collapsed": false
   },
   "outputs": [
    {
     "data": {
      "text/html": [
       "<div>\n",
       "<style>\n",
       "    .dataframe thead tr:only-child th {\n",
       "        text-align: right;\n",
       "    }\n",
       "\n",
       "    .dataframe thead th {\n",
       "        text-align: left;\n",
       "    }\n",
       "\n",
       "    .dataframe tbody tr th {\n",
       "        vertical-align: top;\n",
       "    }\n",
       "</style>\n",
       "<table border=\"1\" class=\"dataframe\">\n",
       "  <thead>\n",
       "    <tr style=\"text-align: right;\">\n",
       "      <th></th>\n",
       "      <th>res_price_per_sqft</th>\n",
       "      <th>fitted_price</th>\n",
       "    </tr>\n",
       "  </thead>\n",
       "  <tbody>\n",
       "    <tr>\n",
       "      <th>count</th>\n",
       "      <td>2182.000000</td>\n",
       "      <td>2182.000000</td>\n",
       "    </tr>\n",
       "    <tr>\n",
       "      <th>mean</th>\n",
       "      <td>243.849936</td>\n",
       "      <td>206.818870</td>\n",
       "    </tr>\n",
       "    <tr>\n",
       "      <th>std</th>\n",
       "      <td>162.403472</td>\n",
       "      <td>137.454712</td>\n",
       "    </tr>\n",
       "    <tr>\n",
       "      <th>min</th>\n",
       "      <td>0.974158</td>\n",
       "      <td>0.007513</td>\n",
       "    </tr>\n",
       "    <tr>\n",
       "      <th>25%</th>\n",
       "      <td>128.734794</td>\n",
       "      <td>89.025805</td>\n",
       "    </tr>\n",
       "    <tr>\n",
       "      <th>50%</th>\n",
       "      <td>228.539201</td>\n",
       "      <td>191.793083</td>\n",
       "    </tr>\n",
       "    <tr>\n",
       "      <th>75%</th>\n",
       "      <td>365.494447</td>\n",
       "      <td>278.324228</td>\n",
       "    </tr>\n",
       "    <tr>\n",
       "      <th>max</th>\n",
       "      <td>1125.000000</td>\n",
       "      <td>1484.329439</td>\n",
       "    </tr>\n",
       "  </tbody>\n",
       "</table>\n",
       "</div>"
      ],
      "text/plain": [
       "       res_price_per_sqft  fitted_price\n",
       "count         2182.000000   2182.000000\n",
       "mean           243.849936    206.818870\n",
       "std            162.403472    137.454712\n",
       "min              0.974158      0.007513\n",
       "25%            128.734794     89.025805\n",
       "50%            228.539201    191.793083\n",
       "75%            365.494447    278.324228\n",
       "max           1125.000000   1484.329439"
      ]
     },
     "execution_count": 48,
     "metadata": {},
     "output_type": "execute_result"
    }
   ],
   "source": [
    "df = orca.get_table('buildings').to_frame(['res_price_per_sqft', 'fitted_price'])\n",
    "df.loc[df.fitted_price > 0].describe()"
   ]
  },
  {
   "cell_type": "code",
   "execution_count": 41,
   "metadata": {
    "collapsed": false
   },
   "outputs": [
    {
     "data": {
      "text/html": [
       "<div>\n",
       "<style>\n",
       "    .dataframe thead tr:only-child th {\n",
       "        text-align: right;\n",
       "    }\n",
       "\n",
       "    .dataframe thead th {\n",
       "        text-align: left;\n",
       "    }\n",
       "\n",
       "    .dataframe tbody tr th {\n",
       "        vertical-align: top;\n",
       "    }\n",
       "</style>\n",
       "<table border=\"1\" class=\"dataframe\">\n",
       "  <thead>\n",
       "    <tr style=\"text-align: right;\">\n",
       "      <th></th>\n",
       "      <th>parcel_id</th>\n",
       "      <th>development_type_id</th>\n",
       "      <th>improvement_value</th>\n",
       "      <th>residential_units</th>\n",
       "      <th>non_residential_sqft</th>\n",
       "      <th>stories</th>\n",
       "      <th>year_built</th>\n",
       "      <th>residential_sqft</th>\n",
       "      <th>res_price_per_sqft</th>\n",
       "      <th>fitted_price</th>\n",
       "      <th>node_id</th>\n",
       "    </tr>\n",
       "  </thead>\n",
       "  <tbody>\n",
       "    <tr>\n",
       "      <th>count</th>\n",
       "      <td>5.917200e+04</td>\n",
       "      <td>59172.000000</td>\n",
       "      <td>5.917200e+04</td>\n",
       "      <td>59172.000000</td>\n",
       "      <td>5.917200e+04</td>\n",
       "      <td>59172.000000</td>\n",
       "      <td>59172.000000</td>\n",
       "      <td>5.917200e+04</td>\n",
       "      <td>59172.000000</td>\n",
       "      <td>59172.000000</td>\n",
       "      <td>2182.000000</td>\n",
       "    </tr>\n",
       "    <tr>\n",
       "      <th>mean</th>\n",
       "      <td>1.824953e+06</td>\n",
       "      <td>19.335733</td>\n",
       "      <td>5.938045e+05</td>\n",
       "      <td>3.662661</td>\n",
       "      <td>8.495205e+03</td>\n",
       "      <td>1.081170</td>\n",
       "      <td>1979.705486</td>\n",
       "      <td>1.303178e+04</td>\n",
       "      <td>214.760125</td>\n",
       "      <td>7.626559</td>\n",
       "      <td>44284.095325</td>\n",
       "    </tr>\n",
       "    <tr>\n",
       "      <th>std</th>\n",
       "      <td>2.138605e+06</td>\n",
       "      <td>0.663925</td>\n",
       "      <td>2.823604e+06</td>\n",
       "      <td>13.734032</td>\n",
       "      <td>4.363458e+04</td>\n",
       "      <td>0.381794</td>\n",
       "      <td>20.675804</td>\n",
       "      <td>4.544811e+04</td>\n",
       "      <td>317.965487</td>\n",
       "      <td>47.070047</td>\n",
       "      <td>4104.251504</td>\n",
       "    </tr>\n",
       "    <tr>\n",
       "      <th>min</th>\n",
       "      <td>2.900000e+01</td>\n",
       "      <td>19.000000</td>\n",
       "      <td>0.000000e+00</td>\n",
       "      <td>1.000000</td>\n",
       "      <td>0.000000e+00</td>\n",
       "      <td>1.000000</td>\n",
       "      <td>1913.000000</td>\n",
       "      <td>5.000000e+01</td>\n",
       "      <td>0.000220</td>\n",
       "      <td>0.000000</td>\n",
       "      <td>36360.000000</td>\n",
       "    </tr>\n",
       "    <tr>\n",
       "      <th>25%</th>\n",
       "      <td>2.894475e+05</td>\n",
       "      <td>19.000000</td>\n",
       "      <td>1.071312e+05</td>\n",
       "      <td>1.000000</td>\n",
       "      <td>0.000000e+00</td>\n",
       "      <td>1.000000</td>\n",
       "      <td>1965.000000</td>\n",
       "      <td>1.472000e+03</td>\n",
       "      <td>133.098672</td>\n",
       "      <td>0.000000</td>\n",
       "      <td>41131.000000</td>\n",
       "    </tr>\n",
       "    <tr>\n",
       "      <th>50%</th>\n",
       "      <td>5.873640e+05</td>\n",
       "      <td>19.000000</td>\n",
       "      <td>1.750000e+05</td>\n",
       "      <td>1.000000</td>\n",
       "      <td>0.000000e+00</td>\n",
       "      <td>1.000000</td>\n",
       "      <td>1981.000000</td>\n",
       "      <td>2.122000e+03</td>\n",
       "      <td>191.676955</td>\n",
       "      <td>0.000000</td>\n",
       "      <td>43936.500000</td>\n",
       "    </tr>\n",
       "    <tr>\n",
       "      <th>75%</th>\n",
       "      <td>5.032626e+06</td>\n",
       "      <td>19.000000</td>\n",
       "      <td>3.022590e+05</td>\n",
       "      <td>1.000000</td>\n",
       "      <td>0.000000e+00</td>\n",
       "      <td>1.000000</td>\n",
       "      <td>1998.000000</td>\n",
       "      <td>3.601000e+03</td>\n",
       "      <td>258.776213</td>\n",
       "      <td>0.000000</td>\n",
       "      <td>47438.000000</td>\n",
       "    </tr>\n",
       "    <tr>\n",
       "      <th>max</th>\n",
       "      <td>5.293696e+06</td>\n",
       "      <td>21.000000</td>\n",
       "      <td>1.800000e+08</td>\n",
       "      <td>679.000000</td>\n",
       "      <td>1.197079e+06</td>\n",
       "      <td>29.000000</td>\n",
       "      <td>2012.000000</td>\n",
       "      <td>1.197079e+06</td>\n",
       "      <td>21770.833333</td>\n",
       "      <td>1484.329439</td>\n",
       "      <td>52513.000000</td>\n",
       "    </tr>\n",
       "  </tbody>\n",
       "</table>\n",
       "</div>"
      ],
      "text/plain": [
       "          parcel_id  development_type_id  improvement_value  \\\n",
       "count  5.917200e+04         59172.000000       5.917200e+04   \n",
       "mean   1.824953e+06            19.335733       5.938045e+05   \n",
       "std    2.138605e+06             0.663925       2.823604e+06   \n",
       "min    2.900000e+01            19.000000       0.000000e+00   \n",
       "25%    2.894475e+05            19.000000       1.071312e+05   \n",
       "50%    5.873640e+05            19.000000       1.750000e+05   \n",
       "75%    5.032626e+06            19.000000       3.022590e+05   \n",
       "max    5.293696e+06            21.000000       1.800000e+08   \n",
       "\n",
       "       residential_units  non_residential_sqft       stories    year_built  \\\n",
       "count       59172.000000          5.917200e+04  59172.000000  59172.000000   \n",
       "mean            3.662661          8.495205e+03      1.081170   1979.705486   \n",
       "std            13.734032          4.363458e+04      0.381794     20.675804   \n",
       "min             1.000000          0.000000e+00      1.000000   1913.000000   \n",
       "25%             1.000000          0.000000e+00      1.000000   1965.000000   \n",
       "50%             1.000000          0.000000e+00      1.000000   1981.000000   \n",
       "75%             1.000000          0.000000e+00      1.000000   1998.000000   \n",
       "max           679.000000          1.197079e+06     29.000000   2012.000000   \n",
       "\n",
       "       residential_sqft  res_price_per_sqft  fitted_price       node_id  \n",
       "count      5.917200e+04        59172.000000  59172.000000   2182.000000  \n",
       "mean       1.303178e+04          214.760125      7.626559  44284.095325  \n",
       "std        4.544811e+04          317.965487     47.070047   4104.251504  \n",
       "min        5.000000e+01            0.000220      0.000000  36360.000000  \n",
       "25%        1.472000e+03          133.098672      0.000000  41131.000000  \n",
       "50%        2.122000e+03          191.676955      0.000000  43936.500000  \n",
       "75%        3.601000e+03          258.776213      0.000000  47438.000000  \n",
       "max        1.197079e+06        21770.833333   1484.329439  52513.000000  "
      ]
     },
     "execution_count": 41,
     "metadata": {},
     "output_type": "execute_result"
    }
   ],
   "source": [
    "orca.get_table('buildings').to_frame().describe()"
   ]
  },
  {
   "cell_type": "code",
   "execution_count": 25,
   "metadata": {
    "collapsed": false
   },
   "outputs": [],
   "source": [
    "# Add prediction components\n",
    "# Register and save\n",
    "# Delete\n",
    "# Load from disk\n"
   ]
  },
  {
   "cell_type": "code",
   "execution_count": null,
   "metadata": {
    "collapsed": true
   },
   "outputs": [],
   "source": []
  },
  {
   "cell_type": "code",
   "execution_count": null,
   "metadata": {
    "collapsed": true
   },
   "outputs": [],
   "source": []
  },
  {
   "cell_type": "code",
   "execution_count": null,
   "metadata": {
    "collapsed": true
   },
   "outputs": [],
   "source": []
  },
  {
   "cell_type": "code",
   "execution_count": null,
   "metadata": {
    "collapsed": true
   },
   "outputs": [],
   "source": []
  }
 ],
 "metadata": {
  "kernelspec": {
   "display_name": "Python 3",
   "language": "python",
   "name": "python3"
  },
  "language_info": {
   "codemirror_mode": {
    "name": "ipython",
    "version": 3
   },
   "file_extension": ".py",
   "mimetype": "text/x-python",
   "name": "python",
   "nbconvert_exporter": "python",
   "pygments_lexer": "ipython3",
   "version": "3.6.0"
  }
 },
 "nbformat": 4,
 "nbformat_minor": 2
}
