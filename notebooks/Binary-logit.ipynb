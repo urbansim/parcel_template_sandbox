{
 "cells": [
  {
   "cell_type": "markdown",
   "metadata": {},
   "source": [
    "# Binary logit testing\n",
    "\n",
    "Sam Maurer, Mar 2018 | Python 3.6"
   ]
  },
  {
   "cell_type": "code",
   "execution_count": 1,
   "metadata": {
    "collapsed": true
   },
   "outputs": [],
   "source": [
    "from __future__ import print_function\n",
    "\n",
    "import numpy as np\n",
    "import pandas as pd"
   ]
  },
  {
   "cell_type": "code",
   "execution_count": 2,
   "metadata": {
    "collapsed": true
   },
   "outputs": [],
   "source": [
    "# Standard to run UrbanSim from the root level of the project directory\n",
    "\n",
    "import os; os.chdir('../')"
   ]
  },
  {
   "cell_type": "code",
   "execution_count": 3,
   "metadata": {
    "collapsed": false
   },
   "outputs": [
    {
     "name": "stderr",
     "output_type": "stream",
     "text": [
      "/Users/maurer/anaconda/lib/python3.6/site-packages/statsmodels/compat/pandas.py:56: FutureWarning: The pandas.core.datetools module is deprecated and will be removed in a future version. Please use the pandas.tseries module instead.\n",
      "  from pandas.core import datetools\n"
     ]
    }
   ],
   "source": [
    "import modelmanager as mm\n",
    "from modelmanager.models import BinaryLogitStep\n",
    "import orca"
   ]
  },
  {
   "cell_type": "code",
   "execution_count": 4,
   "metadata": {
    "collapsed": true
   },
   "outputs": [],
   "source": [
    "import legacy_datasources\n",
    "import legacy_models"
   ]
  },
  {
   "cell_type": "code",
   "execution_count": null,
   "metadata": {
    "collapsed": true
   },
   "outputs": [],
   "source": []
  },
  {
   "cell_type": "code",
   "execution_count": 5,
   "metadata": {
    "collapsed": false
   },
   "outputs": [],
   "source": [
    "b = BinaryLogitStep(['table'], 'expression')"
   ]
  },
  {
   "cell_type": "code",
   "execution_count": 6,
   "metadata": {
    "collapsed": false
   },
   "outputs": [
    {
     "data": {
      "text/plain": [
       "'BinaryLogitStep'"
      ]
     },
     "execution_count": 6,
     "metadata": {},
     "output_type": "execute_result"
    }
   ],
   "source": [
    "b.type"
   ]
  },
  {
   "cell_type": "code",
   "execution_count": 7,
   "metadata": {
    "collapsed": false
   },
   "outputs": [
    {
     "data": {
      "text/plain": [
       "\"BinaryLogitStep'>\""
      ]
     },
     "execution_count": 7,
     "metadata": {},
     "output_type": "execute_result"
    }
   ],
   "source": [
    "str(type(b)).split('.')[-1]"
   ]
  },
  {
   "cell_type": "code",
   "execution_count": 8,
   "metadata": {
    "collapsed": false
   },
   "outputs": [
    {
     "data": {
      "text/plain": [
       "'BinaryLogitStep'"
      ]
     },
     "execution_count": 8,
     "metadata": {},
     "output_type": "execute_result"
    }
   ],
   "source": [
    "type(b).__name__"
   ]
  },
  {
   "cell_type": "code",
   "execution_count": 9,
   "metadata": {
    "collapsed": false
   },
   "outputs": [
    {
     "data": {
      "text/plain": [
       "['a', 'b', None]"
      ]
     },
     "execution_count": 9,
     "metadata": {},
     "output_type": "execute_result"
    }
   ],
   "source": [
    "c = None\n",
    "['a', 'b'] + [c]"
   ]
  },
  {
   "cell_type": "code",
   "execution_count": 10,
   "metadata": {
    "collapsed": false
   },
   "outputs": [],
   "source": [
    "c = None\n",
    "if not (c is None):\n",
    "    print('yes')"
   ]
  },
  {
   "cell_type": "code",
   "execution_count": 11,
   "metadata": {
    "collapsed": false
   },
   "outputs": [
    {
     "data": {
      "text/plain": [
       "True"
      ]
     },
     "execution_count": 11,
     "metadata": {},
     "output_type": "execute_result"
    }
   ],
   "source": [
    "isinstance([1, 2, 3], list)"
   ]
  },
  {
   "cell_type": "code",
   "execution_count": 12,
   "metadata": {
    "collapsed": false
   },
   "outputs": [
    {
     "name": "stdout",
     "output_type": "stream",
     "text": [
      "HOUSEHOLDS\n",
      "['building_id', 'tenure', 'persons', 'workers', 'age_of_head', 'income', 'children', 'race_id', 'cars', 'base_luz', 'segmentation_col', 'node_id']\n",
      "\n",
      "BUILDINGS\n",
      "['parcel_id', 'development_type_id', 'improvement_value', 'residential_units', 'non_residential_sqft', 'stories', 'year_built', 'residential_sqft', 'note', 'res_price_per_sqft', 'node_id']\n",
      "\n",
      "PARCELS\n",
      "['development_type_id', 'land_value', 'parcel_acres', 'county_id', 'mgra_id', 'zoning_id', 'luz_id', 'msa_id', 'proportion_undevelopable', 'tax_exempt', 'distance_to_coast', 'distance_to_freeway', 'distance_to_onramp', 'distance_to_park', 'distance_to_school', 'distance_to_transit', 'x', 'y', 'taz_id', 'node_id', 'acres']\n",
      "\n",
      "JOBS\n",
      "['sector_id', 'building_id', 'node_id']\n",
      "\n"
     ]
    }
   ],
   "source": [
    "for table_name in orca.list_tables():\n",
    "    print(table_name.upper())\n",
    "    print(orca.get_table(table_name).to_frame().columns.tolist())\n",
    "    print()"
   ]
  },
  {
   "cell_type": "code",
   "execution_count": 13,
   "metadata": {
    "collapsed": false
   },
   "outputs": [
    {
     "data": {
      "text/plain": [
       "count    58671.000000\n",
       "mean         0.434099\n",
       "std          0.876846\n",
       "min          0.000000\n",
       "25%          0.000000\n",
       "50%          0.000000\n",
       "75%          0.000000\n",
       "max          6.000000\n",
       "Name: children, dtype: float64"
      ]
     },
     "execution_count": 13,
     "metadata": {},
     "output_type": "execute_result"
    }
   ],
   "source": [
    "ch = orca.get_table('households').to_frame('children').children\n",
    "ch.describe()"
   ]
  },
  {
   "cell_type": "code",
   "execution_count": 14,
   "metadata": {
    "collapsed": false
   },
   "outputs": [
    {
     "data": {
      "text/plain": [
       "count    58671.000000\n",
       "mean         0.242471\n",
       "std          0.428581\n",
       "min          0.000000\n",
       "25%          0.000000\n",
       "50%          0.000000\n",
       "75%          0.000000\n",
       "max          1.000000\n",
       "Name: children, dtype: float64"
      ]
     },
     "execution_count": 14,
     "metadata": {},
     "output_type": "execute_result"
    }
   ],
   "source": [
    "# Turn children into a binary variable\n",
    "ch.loc[ch > 0] = 1\n",
    "ch.describe()"
   ]
  },
  {
   "cell_type": "code",
   "execution_count": 15,
   "metadata": {
    "collapsed": false
   },
   "outputs": [
    {
     "data": {
      "text/plain": [
       "count    58671.000000\n",
       "mean         0.242471\n",
       "std          0.428581\n",
       "min          0.000000\n",
       "25%          0.000000\n",
       "50%          0.000000\n",
       "75%          0.000000\n",
       "max          1.000000\n",
       "Name: children, dtype: float64"
      ]
     },
     "execution_count": 15,
     "metadata": {},
     "output_type": "execute_result"
    }
   ],
   "source": [
    "# Update column\n",
    "orca.get_table('households').update_col_from_series('children', ch)\n",
    "\n",
    "# Check that it worked\n",
    "orca.get_table('households').to_frame('children').children.describe()"
   ]
  },
  {
   "cell_type": "code",
   "execution_count": 16,
   "metadata": {
    "collapsed": true
   },
   "outputs": [],
   "source": [
    "b = BinaryLogitStep(['households', 'buildings', 'parcels'], \n",
    "                    'children ~ age_of_head + income + cars + residential_sqft',\n",
    "                    ['age_of_head < 40'])"
   ]
  },
  {
   "cell_type": "code",
   "execution_count": 17,
   "metadata": {
    "collapsed": false
   },
   "outputs": [
    {
     "data": {
      "text/html": [
       "<div>\n",
       "<style scoped>\n",
       "    .dataframe tbody tr th:only-of-type {\n",
       "        vertical-align: middle;\n",
       "    }\n",
       "\n",
       "    .dataframe tbody tr th {\n",
       "        vertical-align: top;\n",
       "    }\n",
       "\n",
       "    .dataframe thead th {\n",
       "        text-align: right;\n",
       "    }\n",
       "</style>\n",
       "<table border=\"1\" class=\"dataframe\">\n",
       "  <thead>\n",
       "    <tr style=\"text-align: right;\">\n",
       "      <th></th>\n",
       "      <th>children</th>\n",
       "      <th>cars</th>\n",
       "      <th>building_id</th>\n",
       "      <th>age_of_head</th>\n",
       "      <th>income</th>\n",
       "      <th>residential_sqft</th>\n",
       "      <th>parcel_id</th>\n",
       "    </tr>\n",
       "    <tr>\n",
       "      <th>b'household_id'</th>\n",
       "      <th></th>\n",
       "      <th></th>\n",
       "      <th></th>\n",
       "      <th></th>\n",
       "      <th></th>\n",
       "      <th></th>\n",
       "      <th></th>\n",
       "    </tr>\n",
       "  </thead>\n",
       "  <tbody>\n",
       "    <tr>\n",
       "      <th>177384</th>\n",
       "      <td>1</td>\n",
       "      <td>0</td>\n",
       "      <td>377345</td>\n",
       "      <td>36</td>\n",
       "      <td>17000</td>\n",
       "      <td>1444</td>\n",
       "      <td>46433</td>\n",
       "    </tr>\n",
       "    <tr>\n",
       "      <th>151392</th>\n",
       "      <td>0</td>\n",
       "      <td>1</td>\n",
       "      <td>378667</td>\n",
       "      <td>26</td>\n",
       "      <td>32000</td>\n",
       "      <td>4482</td>\n",
       "      <td>46101</td>\n",
       "    </tr>\n",
       "    <tr>\n",
       "      <th>177399</th>\n",
       "      <td>1</td>\n",
       "      <td>0</td>\n",
       "      <td>378667</td>\n",
       "      <td>36</td>\n",
       "      <td>17000</td>\n",
       "      <td>4482</td>\n",
       "      <td>46101</td>\n",
       "    </tr>\n",
       "    <tr>\n",
       "      <th>378703</th>\n",
       "      <td>0</td>\n",
       "      <td>2</td>\n",
       "      <td>378667</td>\n",
       "      <td>31</td>\n",
       "      <td>69000</td>\n",
       "      <td>4482</td>\n",
       "      <td>46101</td>\n",
       "    </tr>\n",
       "    <tr>\n",
       "      <th>151338</th>\n",
       "      <td>0</td>\n",
       "      <td>1</td>\n",
       "      <td>376292</td>\n",
       "      <td>26</td>\n",
       "      <td>32000</td>\n",
       "      <td>34756</td>\n",
       "      <td>44669</td>\n",
       "    </tr>\n",
       "    <tr>\n",
       "      <th>151369</th>\n",
       "      <td>0</td>\n",
       "      <td>1</td>\n",
       "      <td>376292</td>\n",
       "      <td>26</td>\n",
       "      <td>32000</td>\n",
       "      <td>34756</td>\n",
       "      <td>44669</td>\n",
       "    </tr>\n",
       "    <tr>\n",
       "      <th>151397</th>\n",
       "      <td>0</td>\n",
       "      <td>1</td>\n",
       "      <td>376292</td>\n",
       "      <td>26</td>\n",
       "      <td>32000</td>\n",
       "      <td>34756</td>\n",
       "      <td>44669</td>\n",
       "    </tr>\n",
       "    <tr>\n",
       "      <th>177252</th>\n",
       "      <td>1</td>\n",
       "      <td>0</td>\n",
       "      <td>376292</td>\n",
       "      <td>36</td>\n",
       "      <td>17000</td>\n",
       "      <td>34756</td>\n",
       "      <td>44669</td>\n",
       "    </tr>\n",
       "    <tr>\n",
       "      <th>177277</th>\n",
       "      <td>1</td>\n",
       "      <td>0</td>\n",
       "      <td>376292</td>\n",
       "      <td>36</td>\n",
       "      <td>17000</td>\n",
       "      <td>34756</td>\n",
       "      <td>44669</td>\n",
       "    </tr>\n",
       "    <tr>\n",
       "      <th>177297</th>\n",
       "      <td>1</td>\n",
       "      <td>0</td>\n",
       "      <td>376292</td>\n",
       "      <td>36</td>\n",
       "      <td>17000</td>\n",
       "      <td>34756</td>\n",
       "      <td>44669</td>\n",
       "    </tr>\n",
       "    <tr>\n",
       "      <th>177343</th>\n",
       "      <td>1</td>\n",
       "      <td>0</td>\n",
       "      <td>376292</td>\n",
       "      <td>36</td>\n",
       "      <td>17000</td>\n",
       "      <td>34756</td>\n",
       "      <td>44669</td>\n",
       "    </tr>\n",
       "    <tr>\n",
       "      <th>177345</th>\n",
       "      <td>1</td>\n",
       "      <td>0</td>\n",
       "      <td>376292</td>\n",
       "      <td>36</td>\n",
       "      <td>17000</td>\n",
       "      <td>34756</td>\n",
       "      <td>44669</td>\n",
       "    </tr>\n",
       "    <tr>\n",
       "      <th>177378</th>\n",
       "      <td>1</td>\n",
       "      <td>0</td>\n",
       "      <td>376292</td>\n",
       "      <td>36</td>\n",
       "      <td>17000</td>\n",
       "      <td>34756</td>\n",
       "      <td>44669</td>\n",
       "    </tr>\n",
       "    <tr>\n",
       "      <th>177390</th>\n",
       "      <td>1</td>\n",
       "      <td>0</td>\n",
       "      <td>376292</td>\n",
       "      <td>36</td>\n",
       "      <td>17000</td>\n",
       "      <td>34756</td>\n",
       "      <td>44669</td>\n",
       "    </tr>\n",
       "    <tr>\n",
       "      <th>177408</th>\n",
       "      <td>1</td>\n",
       "      <td>0</td>\n",
       "      <td>376292</td>\n",
       "      <td>36</td>\n",
       "      <td>17000</td>\n",
       "      <td>34756</td>\n",
       "      <td>44669</td>\n",
       "    </tr>\n",
       "    <tr>\n",
       "      <th>177413</th>\n",
       "      <td>1</td>\n",
       "      <td>0</td>\n",
       "      <td>376292</td>\n",
       "      <td>36</td>\n",
       "      <td>17000</td>\n",
       "      <td>34756</td>\n",
       "      <td>44669</td>\n",
       "    </tr>\n",
       "    <tr>\n",
       "      <th>177416</th>\n",
       "      <td>1</td>\n",
       "      <td>0</td>\n",
       "      <td>376292</td>\n",
       "      <td>36</td>\n",
       "      <td>17000</td>\n",
       "      <td>34756</td>\n",
       "      <td>44669</td>\n",
       "    </tr>\n",
       "    <tr>\n",
       "      <th>177428</th>\n",
       "      <td>1</td>\n",
       "      <td>0</td>\n",
       "      <td>376292</td>\n",
       "      <td>36</td>\n",
       "      <td>17000</td>\n",
       "      <td>34756</td>\n",
       "      <td>44669</td>\n",
       "    </tr>\n",
       "    <tr>\n",
       "      <th>177432</th>\n",
       "      <td>1</td>\n",
       "      <td>0</td>\n",
       "      <td>376292</td>\n",
       "      <td>36</td>\n",
       "      <td>17000</td>\n",
       "      <td>34756</td>\n",
       "      <td>44669</td>\n",
       "    </tr>\n",
       "    <tr>\n",
       "      <th>177439</th>\n",
       "      <td>1</td>\n",
       "      <td>0</td>\n",
       "      <td>376292</td>\n",
       "      <td>36</td>\n",
       "      <td>17000</td>\n",
       "      <td>34756</td>\n",
       "      <td>44669</td>\n",
       "    </tr>\n",
       "    <tr>\n",
       "      <th>177446</th>\n",
       "      <td>1</td>\n",
       "      <td>0</td>\n",
       "      <td>376292</td>\n",
       "      <td>36</td>\n",
       "      <td>17000</td>\n",
       "      <td>34756</td>\n",
       "      <td>44669</td>\n",
       "    </tr>\n",
       "    <tr>\n",
       "      <th>378677</th>\n",
       "      <td>0</td>\n",
       "      <td>2</td>\n",
       "      <td>376292</td>\n",
       "      <td>31</td>\n",
       "      <td>69000</td>\n",
       "      <td>34756</td>\n",
       "      <td>44669</td>\n",
       "    </tr>\n",
       "    <tr>\n",
       "      <th>378694</th>\n",
       "      <td>0</td>\n",
       "      <td>2</td>\n",
       "      <td>376292</td>\n",
       "      <td>31</td>\n",
       "      <td>69000</td>\n",
       "      <td>34756</td>\n",
       "      <td>44669</td>\n",
       "    </tr>\n",
       "    <tr>\n",
       "      <th>507573</th>\n",
       "      <td>0</td>\n",
       "      <td>2</td>\n",
       "      <td>376292</td>\n",
       "      <td>30</td>\n",
       "      <td>58900</td>\n",
       "      <td>34756</td>\n",
       "      <td>44669</td>\n",
       "    </tr>\n",
       "    <tr>\n",
       "      <th>507576</th>\n",
       "      <td>0</td>\n",
       "      <td>2</td>\n",
       "      <td>376292</td>\n",
       "      <td>30</td>\n",
       "      <td>58900</td>\n",
       "      <td>34756</td>\n",
       "      <td>44669</td>\n",
       "    </tr>\n",
       "    <tr>\n",
       "      <th>1144</th>\n",
       "      <td>0</td>\n",
       "      <td>1</td>\n",
       "      <td>359718</td>\n",
       "      <td>18</td>\n",
       "      <td>0</td>\n",
       "      <td>928</td>\n",
       "      <td>394469</td>\n",
       "    </tr>\n",
       "    <tr>\n",
       "      <th>1148</th>\n",
       "      <td>0</td>\n",
       "      <td>1</td>\n",
       "      <td>358522</td>\n",
       "      <td>18</td>\n",
       "      <td>0</td>\n",
       "      <td>13512</td>\n",
       "      <td>394457</td>\n",
       "    </tr>\n",
       "    <tr>\n",
       "      <th>1149</th>\n",
       "      <td>0</td>\n",
       "      <td>1</td>\n",
       "      <td>358522</td>\n",
       "      <td>18</td>\n",
       "      <td>0</td>\n",
       "      <td>13512</td>\n",
       "      <td>394457</td>\n",
       "    </tr>\n",
       "    <tr>\n",
       "      <th>1154</th>\n",
       "      <td>0</td>\n",
       "      <td>1</td>\n",
       "      <td>358522</td>\n",
       "      <td>18</td>\n",
       "      <td>0</td>\n",
       "      <td>13512</td>\n",
       "      <td>394457</td>\n",
       "    </tr>\n",
       "    <tr>\n",
       "      <th>1156</th>\n",
       "      <td>0</td>\n",
       "      <td>1</td>\n",
       "      <td>358522</td>\n",
       "      <td>18</td>\n",
       "      <td>0</td>\n",
       "      <td>13512</td>\n",
       "      <td>394457</td>\n",
       "    </tr>\n",
       "    <tr>\n",
       "      <th>...</th>\n",
       "      <td>...</td>\n",
       "      <td>...</td>\n",
       "      <td>...</td>\n",
       "      <td>...</td>\n",
       "      <td>...</td>\n",
       "      <td>...</td>\n",
       "      <td>...</td>\n",
       "    </tr>\n",
       "    <tr>\n",
       "      <th>1100341</th>\n",
       "      <td>1</td>\n",
       "      <td>2</td>\n",
       "      <td>371629</td>\n",
       "      <td>31</td>\n",
       "      <td>80260</td>\n",
       "      <td>752</td>\n",
       "      <td>42757</td>\n",
       "    </tr>\n",
       "    <tr>\n",
       "      <th>1102876</th>\n",
       "      <td>1</td>\n",
       "      <td>1</td>\n",
       "      <td>390236</td>\n",
       "      <td>29</td>\n",
       "      <td>7780</td>\n",
       "      <td>1135</td>\n",
       "      <td>362654</td>\n",
       "    </tr>\n",
       "    <tr>\n",
       "      <th>1103891</th>\n",
       "      <td>0</td>\n",
       "      <td>2</td>\n",
       "      <td>341351</td>\n",
       "      <td>32</td>\n",
       "      <td>83000</td>\n",
       "      <td>989</td>\n",
       "      <td>134902</td>\n",
       "    </tr>\n",
       "    <tr>\n",
       "      <th>1105814</th>\n",
       "      <td>0</td>\n",
       "      <td>1</td>\n",
       "      <td>347462</td>\n",
       "      <td>25</td>\n",
       "      <td>18200</td>\n",
       "      <td>936</td>\n",
       "      <td>422631</td>\n",
       "    </tr>\n",
       "    <tr>\n",
       "      <th>1111397</th>\n",
       "      <td>0</td>\n",
       "      <td>1</td>\n",
       "      <td>391298</td>\n",
       "      <td>28</td>\n",
       "      <td>83010</td>\n",
       "      <td>1484</td>\n",
       "      <td>157019</td>\n",
       "    </tr>\n",
       "    <tr>\n",
       "      <th>1111404</th>\n",
       "      <td>1</td>\n",
       "      <td>1</td>\n",
       "      <td>346487</td>\n",
       "      <td>39</td>\n",
       "      <td>30000</td>\n",
       "      <td>1076</td>\n",
       "      <td>127545</td>\n",
       "    </tr>\n",
       "    <tr>\n",
       "      <th>1165772</th>\n",
       "      <td>0</td>\n",
       "      <td>1</td>\n",
       "      <td>348409</td>\n",
       "      <td>32</td>\n",
       "      <td>92000</td>\n",
       "      <td>2108</td>\n",
       "      <td>132708</td>\n",
       "    </tr>\n",
       "    <tr>\n",
       "      <th>1128992</th>\n",
       "      <td>0</td>\n",
       "      <td>2</td>\n",
       "      <td>386629</td>\n",
       "      <td>31</td>\n",
       "      <td>67500</td>\n",
       "      <td>2692</td>\n",
       "      <td>41284</td>\n",
       "    </tr>\n",
       "    <tr>\n",
       "      <th>1128998</th>\n",
       "      <td>0</td>\n",
       "      <td>2</td>\n",
       "      <td>386774</td>\n",
       "      <td>31</td>\n",
       "      <td>67500</td>\n",
       "      <td>856</td>\n",
       "      <td>41283</td>\n",
       "    </tr>\n",
       "    <tr>\n",
       "      <th>1129001</th>\n",
       "      <td>0</td>\n",
       "      <td>2</td>\n",
       "      <td>388255</td>\n",
       "      <td>31</td>\n",
       "      <td>67500</td>\n",
       "      <td>1728</td>\n",
       "      <td>40596</td>\n",
       "    </tr>\n",
       "    <tr>\n",
       "      <th>1129014</th>\n",
       "      <td>0</td>\n",
       "      <td>2</td>\n",
       "      <td>386517</td>\n",
       "      <td>31</td>\n",
       "      <td>67500</td>\n",
       "      <td>1101</td>\n",
       "      <td>83849</td>\n",
       "    </tr>\n",
       "    <tr>\n",
       "      <th>1130976</th>\n",
       "      <td>1</td>\n",
       "      <td>1</td>\n",
       "      <td>356731</td>\n",
       "      <td>32</td>\n",
       "      <td>190000</td>\n",
       "      <td>1404</td>\n",
       "      <td>206586</td>\n",
       "    </tr>\n",
       "    <tr>\n",
       "      <th>1138651</th>\n",
       "      <td>0</td>\n",
       "      <td>1</td>\n",
       "      <td>343858</td>\n",
       "      <td>39</td>\n",
       "      <td>35000</td>\n",
       "      <td>2498</td>\n",
       "      <td>8318</td>\n",
       "    </tr>\n",
       "    <tr>\n",
       "      <th>1146491</th>\n",
       "      <td>0</td>\n",
       "      <td>4</td>\n",
       "      <td>347222</td>\n",
       "      <td>23</td>\n",
       "      <td>0</td>\n",
       "      <td>638</td>\n",
       "      <td>42811</td>\n",
       "    </tr>\n",
       "    <tr>\n",
       "      <th>1151002</th>\n",
       "      <td>0</td>\n",
       "      <td>4</td>\n",
       "      <td>393097</td>\n",
       "      <td>32</td>\n",
       "      <td>91000</td>\n",
       "      <td>1330</td>\n",
       "      <td>40168</td>\n",
       "    </tr>\n",
       "    <tr>\n",
       "      <th>1151014</th>\n",
       "      <td>0</td>\n",
       "      <td>4</td>\n",
       "      <td>393928</td>\n",
       "      <td>32</td>\n",
       "      <td>91000</td>\n",
       "      <td>1432</td>\n",
       "      <td>119887</td>\n",
       "    </tr>\n",
       "    <tr>\n",
       "      <th>1151640</th>\n",
       "      <td>1</td>\n",
       "      <td>2</td>\n",
       "      <td>373584</td>\n",
       "      <td>35</td>\n",
       "      <td>36800</td>\n",
       "      <td>1499</td>\n",
       "      <td>40447</td>\n",
       "    </tr>\n",
       "    <tr>\n",
       "      <th>1151644</th>\n",
       "      <td>1</td>\n",
       "      <td>2</td>\n",
       "      <td>379273</td>\n",
       "      <td>35</td>\n",
       "      <td>36800</td>\n",
       "      <td>1024</td>\n",
       "      <td>191887</td>\n",
       "    </tr>\n",
       "    <tr>\n",
       "      <th>1162731</th>\n",
       "      <td>1</td>\n",
       "      <td>1</td>\n",
       "      <td>379456</td>\n",
       "      <td>26</td>\n",
       "      <td>30000</td>\n",
       "      <td>899</td>\n",
       "      <td>47461</td>\n",
       "    </tr>\n",
       "    <tr>\n",
       "      <th>1166134</th>\n",
       "      <td>0</td>\n",
       "      <td>1</td>\n",
       "      <td>355946</td>\n",
       "      <td>30</td>\n",
       "      <td>40000</td>\n",
       "      <td>1800</td>\n",
       "      <td>206414</td>\n",
       "    </tr>\n",
       "    <tr>\n",
       "      <th>1167154</th>\n",
       "      <td>0</td>\n",
       "      <td>2</td>\n",
       "      <td>347497</td>\n",
       "      <td>32</td>\n",
       "      <td>89000</td>\n",
       "      <td>1577</td>\n",
       "      <td>284580</td>\n",
       "    </tr>\n",
       "    <tr>\n",
       "      <th>1168741</th>\n",
       "      <td>0</td>\n",
       "      <td>1</td>\n",
       "      <td>381204</td>\n",
       "      <td>20</td>\n",
       "      <td>0</td>\n",
       "      <td>1630</td>\n",
       "      <td>1224</td>\n",
       "    </tr>\n",
       "    <tr>\n",
       "      <th>1168750</th>\n",
       "      <td>0</td>\n",
       "      <td>1</td>\n",
       "      <td>382445</td>\n",
       "      <td>20</td>\n",
       "      <td>0</td>\n",
       "      <td>1822</td>\n",
       "      <td>355687</td>\n",
       "    </tr>\n",
       "    <tr>\n",
       "      <th>1168753</th>\n",
       "      <td>0</td>\n",
       "      <td>1</td>\n",
       "      <td>381539</td>\n",
       "      <td>20</td>\n",
       "      <td>0</td>\n",
       "      <td>1056</td>\n",
       "      <td>124983</td>\n",
       "    </tr>\n",
       "    <tr>\n",
       "      <th>1175503</th>\n",
       "      <td>0</td>\n",
       "      <td>2</td>\n",
       "      <td>389448</td>\n",
       "      <td>31</td>\n",
       "      <td>79400</td>\n",
       "      <td>1364</td>\n",
       "      <td>305965</td>\n",
       "    </tr>\n",
       "    <tr>\n",
       "      <th>1175504</th>\n",
       "      <td>0</td>\n",
       "      <td>2</td>\n",
       "      <td>389250</td>\n",
       "      <td>31</td>\n",
       "      <td>79400</td>\n",
       "      <td>1434</td>\n",
       "      <td>221467</td>\n",
       "    </tr>\n",
       "    <tr>\n",
       "      <th>1175657</th>\n",
       "      <td>1</td>\n",
       "      <td>2</td>\n",
       "      <td>387749</td>\n",
       "      <td>34</td>\n",
       "      <td>115900</td>\n",
       "      <td>918</td>\n",
       "      <td>255996</td>\n",
       "    </tr>\n",
       "    <tr>\n",
       "      <th>1184320</th>\n",
       "      <td>0</td>\n",
       "      <td>1</td>\n",
       "      <td>373090</td>\n",
       "      <td>26</td>\n",
       "      <td>26000</td>\n",
       "      <td>1372</td>\n",
       "      <td>422353</td>\n",
       "    </tr>\n",
       "    <tr>\n",
       "      <th>1200460</th>\n",
       "      <td>0</td>\n",
       "      <td>3</td>\n",
       "      <td>370060</td>\n",
       "      <td>39</td>\n",
       "      <td>100900</td>\n",
       "      <td>780</td>\n",
       "      <td>269396</td>\n",
       "    </tr>\n",
       "    <tr>\n",
       "      <th>1200499</th>\n",
       "      <td>0</td>\n",
       "      <td>3</td>\n",
       "      <td>372814</td>\n",
       "      <td>39</td>\n",
       "      <td>100900</td>\n",
       "      <td>714</td>\n",
       "      <td>170321</td>\n",
       "    </tr>\n",
       "  </tbody>\n",
       "</table>\n",
       "<p>4776 rows × 7 columns</p>\n",
       "</div>"
      ],
      "text/plain": [
       "                 children  cars  building_id  age_of_head  income  \\\n",
       "b'household_id'                                                     \n",
       "177384                  1     0       377345           36   17000   \n",
       "151392                  0     1       378667           26   32000   \n",
       "177399                  1     0       378667           36   17000   \n",
       "378703                  0     2       378667           31   69000   \n",
       "151338                  0     1       376292           26   32000   \n",
       "151369                  0     1       376292           26   32000   \n",
       "151397                  0     1       376292           26   32000   \n",
       "177252                  1     0       376292           36   17000   \n",
       "177277                  1     0       376292           36   17000   \n",
       "177297                  1     0       376292           36   17000   \n",
       "177343                  1     0       376292           36   17000   \n",
       "177345                  1     0       376292           36   17000   \n",
       "177378                  1     0       376292           36   17000   \n",
       "177390                  1     0       376292           36   17000   \n",
       "177408                  1     0       376292           36   17000   \n",
       "177413                  1     0       376292           36   17000   \n",
       "177416                  1     0       376292           36   17000   \n",
       "177428                  1     0       376292           36   17000   \n",
       "177432                  1     0       376292           36   17000   \n",
       "177439                  1     0       376292           36   17000   \n",
       "177446                  1     0       376292           36   17000   \n",
       "378677                  0     2       376292           31   69000   \n",
       "378694                  0     2       376292           31   69000   \n",
       "507573                  0     2       376292           30   58900   \n",
       "507576                  0     2       376292           30   58900   \n",
       "1144                    0     1       359718           18       0   \n",
       "1148                    0     1       358522           18       0   \n",
       "1149                    0     1       358522           18       0   \n",
       "1154                    0     1       358522           18       0   \n",
       "1156                    0     1       358522           18       0   \n",
       "...                   ...   ...          ...          ...     ...   \n",
       "1100341                 1     2       371629           31   80260   \n",
       "1102876                 1     1       390236           29    7780   \n",
       "1103891                 0     2       341351           32   83000   \n",
       "1105814                 0     1       347462           25   18200   \n",
       "1111397                 0     1       391298           28   83010   \n",
       "1111404                 1     1       346487           39   30000   \n",
       "1165772                 0     1       348409           32   92000   \n",
       "1128992                 0     2       386629           31   67500   \n",
       "1128998                 0     2       386774           31   67500   \n",
       "1129001                 0     2       388255           31   67500   \n",
       "1129014                 0     2       386517           31   67500   \n",
       "1130976                 1     1       356731           32  190000   \n",
       "1138651                 0     1       343858           39   35000   \n",
       "1146491                 0     4       347222           23       0   \n",
       "1151002                 0     4       393097           32   91000   \n",
       "1151014                 0     4       393928           32   91000   \n",
       "1151640                 1     2       373584           35   36800   \n",
       "1151644                 1     2       379273           35   36800   \n",
       "1162731                 1     1       379456           26   30000   \n",
       "1166134                 0     1       355946           30   40000   \n",
       "1167154                 0     2       347497           32   89000   \n",
       "1168741                 0     1       381204           20       0   \n",
       "1168750                 0     1       382445           20       0   \n",
       "1168753                 0     1       381539           20       0   \n",
       "1175503                 0     2       389448           31   79400   \n",
       "1175504                 0     2       389250           31   79400   \n",
       "1175657                 1     2       387749           34  115900   \n",
       "1184320                 0     1       373090           26   26000   \n",
       "1200460                 0     3       370060           39  100900   \n",
       "1200499                 0     3       372814           39  100900   \n",
       "\n",
       "                 residential_sqft parcel_id  \n",
       "b'household_id'                              \n",
       "177384                       1444     46433  \n",
       "151392                       4482     46101  \n",
       "177399                       4482     46101  \n",
       "378703                       4482     46101  \n",
       "151338                      34756     44669  \n",
       "151369                      34756     44669  \n",
       "151397                      34756     44669  \n",
       "177252                      34756     44669  \n",
       "177277                      34756     44669  \n",
       "177297                      34756     44669  \n",
       "177343                      34756     44669  \n",
       "177345                      34756     44669  \n",
       "177378                      34756     44669  \n",
       "177390                      34756     44669  \n",
       "177408                      34756     44669  \n",
       "177413                      34756     44669  \n",
       "177416                      34756     44669  \n",
       "177428                      34756     44669  \n",
       "177432                      34756     44669  \n",
       "177439                      34756     44669  \n",
       "177446                      34756     44669  \n",
       "378677                      34756     44669  \n",
       "378694                      34756     44669  \n",
       "507573                      34756     44669  \n",
       "507576                      34756     44669  \n",
       "1144                          928    394469  \n",
       "1148                        13512    394457  \n",
       "1149                        13512    394457  \n",
       "1154                        13512    394457  \n",
       "1156                        13512    394457  \n",
       "...                           ...       ...  \n",
       "1100341                       752     42757  \n",
       "1102876                      1135    362654  \n",
       "1103891                       989    134902  \n",
       "1105814                       936    422631  \n",
       "1111397                      1484    157019  \n",
       "1111404                      1076    127545  \n",
       "1165772                      2108    132708  \n",
       "1128992                      2692     41284  \n",
       "1128998                       856     41283  \n",
       "1129001                      1728     40596  \n",
       "1129014                      1101     83849  \n",
       "1130976                      1404    206586  \n",
       "1138651                      2498      8318  \n",
       "1146491                       638     42811  \n",
       "1151002                      1330     40168  \n",
       "1151014                      1432    119887  \n",
       "1151640                      1499     40447  \n",
       "1151644                      1024    191887  \n",
       "1162731                       899     47461  \n",
       "1166134                      1800    206414  \n",
       "1167154                      1577    284580  \n",
       "1168741                      1630      1224  \n",
       "1168750                      1822    355687  \n",
       "1168753                      1056    124983  \n",
       "1175503                      1364    305965  \n",
       "1175504                      1434    221467  \n",
       "1175657                       918    255996  \n",
       "1184320                      1372    422353  \n",
       "1200460                       780    269396  \n",
       "1200499                       714    170321  \n",
       "\n",
       "[4776 rows x 7 columns]"
      ]
     },
     "execution_count": 17,
     "metadata": {},
     "output_type": "execute_result"
    }
   ],
   "source": [
    "b._get_data()"
   ]
  },
  {
   "cell_type": "code",
   "execution_count": 18,
   "metadata": {
    "collapsed": false
   },
   "outputs": [
    {
     "name": "stdout",
     "output_type": "stream",
     "text": [
      "Optimization terminated successfully.\n",
      "         Current function value: 0.501164\n",
      "         Iterations 7\n",
      "                           Logit Regression Results                           \n",
      "==============================================================================\n",
      "Dep. Variable:               children   No. Observations:                 4776\n",
      "Model:                          Logit   Df Residuals:                     4771\n",
      "Method:                           MLE   Df Model:                            4\n",
      "Date:                Wed, 14 Mar 2018   Pseudo R-squ.:                 0.08767\n",
      "Time:                        21:12:01   Log-Likelihood:                -2393.6\n",
      "converged:                       True   LL-Null:                       -2623.6\n",
      "                                        LLR p-value:                 2.927e-98\n",
      "====================================================================================\n",
      "                       coef    std err          z      P>|z|      [0.025      0.975]\n",
      "------------------------------------------------------------------------------------\n",
      "Intercept           -5.1120      0.250    -20.478      0.000      -5.601      -4.623\n",
      "age_of_head          0.1294      0.008     16.962      0.000       0.114       0.144\n",
      "income           -7.381e-06      1e-06     -7.354      0.000   -9.35e-06   -5.41e-06\n",
      "cars                 0.3869      0.049      7.923      0.000       0.291       0.483\n",
      "residential_sqft -5.001e-06   8.33e-07     -6.006      0.000   -6.63e-06   -3.37e-06\n",
      "====================================================================================\n"
     ]
    }
   ],
   "source": [
    "b.fit()"
   ]
  },
  {
   "cell_type": "code",
   "execution_count": 19,
   "metadata": {
    "collapsed": false
   },
   "outputs": [
    {
     "data": {
      "text/plain": [
       "list"
      ]
     },
     "execution_count": 19,
     "metadata": {},
     "output_type": "execute_result"
    }
   ],
   "source": [
    "type(b.fitted_parameters)"
   ]
  },
  {
   "cell_type": "code",
   "execution_count": 20,
   "metadata": {
    "collapsed": false
   },
   "outputs": [
    {
     "data": {
      "text/plain": [
       "[-5.111984721917692,\n",
       " 0.12937080499546547,\n",
       " -7.380928627907898e-06,\n",
       " 0.386911210479455,\n",
       " -5.0005270183615935e-06]"
      ]
     },
     "execution_count": 20,
     "metadata": {},
     "output_type": "execute_result"
    }
   ],
   "source": [
    "b.fitted_parameters"
   ]
  },
  {
   "cell_type": "code",
   "execution_count": 21,
   "metadata": {
    "collapsed": false
   },
   "outputs": [],
   "source": [
    "# TO DO - test with transformations\n",
    "\n",
    "b.run()"
   ]
  },
  {
   "cell_type": "code",
   "execution_count": 22,
   "metadata": {
    "collapsed": false
   },
   "outputs": [],
   "source": [
    "b.out_value_true = -1\n",
    "b.out_value_false = 'nothing'"
   ]
  },
  {
   "cell_type": "code",
   "execution_count": 23,
   "metadata": {
    "collapsed": false
   },
   "outputs": [],
   "source": [
    "b.run()"
   ]
  },
  {
   "cell_type": "code",
   "execution_count": 24,
   "metadata": {
    "collapsed": false
   },
   "outputs": [
    {
     "data": {
      "text/plain": [
       "count    58671.000000\n",
       "mean         0.140666\n",
       "std          0.551677\n",
       "min         -1.000000\n",
       "25%          0.000000\n",
       "50%          0.000000\n",
       "75%          0.000000\n",
       "max          1.000000\n",
       "Name: children, dtype: float64"
      ]
     },
     "execution_count": 24,
     "metadata": {},
     "output_type": "execute_result"
    }
   ],
   "source": [
    "orca.get_table('households').to_frame('children').children.describe()"
   ]
  },
  {
   "cell_type": "code",
   "execution_count": 26,
   "metadata": {
    "collapsed": false
   },
   "outputs": [
    {
     "name": "stdout",
     "output_type": "stream",
     "text": [
      "{'d': 5, 'e': 10}\n"
     ]
    }
   ],
   "source": [
    "d = {'d': 5}\n",
    "d.update({'e':10})\n",
    "print(d)"
   ]
  },
  {
   "cell_type": "code",
   "execution_count": 27,
   "metadata": {
    "collapsed": false
   },
   "outputs": [],
   "source": [
    "b.register()"
   ]
  },
  {
   "cell_type": "code",
   "execution_count": 28,
   "metadata": {
    "collapsed": false
   },
   "outputs": [
    {
     "data": {
      "text/plain": [
       "[{'name': None, 'tags': None, 'type': 'BinaryLogitStep'},\n",
       " {'name': 'test-2',\n",
       "  'tags': ['residential-price-hedonic', 'sam', '201802'],\n",
       "  'type': 'RegressionStep'},\n",
       " {'name': 'test-1',\n",
       "  'tags': ['residential-price-hedonic', 'sam', '201802'],\n",
       "  'type': 'RegressionStep'},\n",
       " {'name': 'RegressionStep-20180214-210159',\n",
       "  'tags': ['residential-price-hedonic', 'sam', '201802'],\n",
       "  'type': 'RegressionStep'},\n",
       " {'name': 'BinaryLogitStep-20180314-211201',\n",
       "  'tags': None,\n",
       "  'type': 'BinaryLogitStep'}]"
      ]
     },
     "execution_count": 28,
     "metadata": {},
     "output_type": "execute_result"
    }
   ],
   "source": [
    "mm.list_steps()"
   ]
  },
  {
   "cell_type": "code",
   "execution_count": 29,
   "metadata": {
    "collapsed": false
   },
   "outputs": [
    {
     "name": "stdout",
     "output_type": "stream",
     "text": [
      "                           Logit Regression Results                           \n",
      "==============================================================================\n",
      "Dep. Variable:               children   No. Observations:                 4776\n",
      "Model:                          Logit   Df Residuals:                     4771\n",
      "Method:                           MLE   Df Model:                            4\n",
      "Date:                Wed, 14 Mar 2018   Pseudo R-squ.:                 0.08767\n",
      "Time:                        21:12:01   Log-Likelihood:                -2393.6\n",
      "converged:                       True   LL-Null:                       -2623.6\n",
      "                                        LLR p-value:                 2.927e-98\n",
      "====================================================================================\n",
      "                       coef    std err          z      P>|z|      [0.025      0.975]\n",
      "------------------------------------------------------------------------------------\n",
      "Intercept           -5.1120      0.250    -20.478      0.000      -5.601      -4.623\n",
      "age_of_head          0.1294      0.008     16.962      0.000       0.114       0.144\n",
      "income           -7.381e-06      1e-06     -7.354      0.000   -9.35e-06   -5.41e-06\n",
      "cars                 0.3869      0.049      7.923      0.000       0.291       0.483\n",
      "residential_sqft -5.001e-06   8.33e-07     -6.006      0.000   -6.63e-06   -3.37e-06\n",
      "====================================================================================\n"
     ]
    }
   ],
   "source": [
    "print(b.summary_table)"
   ]
  },
  {
   "cell_type": "code",
   "execution_count": null,
   "metadata": {
    "collapsed": true
   },
   "outputs": [],
   "source": []
  },
  {
   "cell_type": "code",
   "execution_count": null,
   "metadata": {
    "collapsed": true
   },
   "outputs": [],
   "source": []
  },
  {
   "cell_type": "code",
   "execution_count": null,
   "metadata": {
    "collapsed": true
   },
   "outputs": [],
   "source": []
  }
 ],
 "metadata": {
  "kernelspec": {
   "display_name": "Python 3",
   "language": "python",
   "name": "python3"
  },
  "language_info": {
   "codemirror_mode": {
    "name": "ipython",
    "version": 3
   },
   "file_extension": ".py",
   "mimetype": "text/x-python",
   "name": "python",
   "nbconvert_exporter": "python",
   "pygments_lexer": "ipython3",
   "version": "3.6.4"
  }
 },
 "nbformat": 4,
 "nbformat_minor": 2
}
