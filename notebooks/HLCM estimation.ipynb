{
 "cells": [
  {
   "cell_type": "markdown",
   "metadata": {},
   "source": [
    "# Household Location Choice model workflow\n",
    "\n",
    "Max Gardner, Feb 2018  \n",
    "Updated by Sam Maurer, April 2018, for compatibility with urbansim_templates  \n",
    "Python 3.6, intended to be backward compatible with 2.7"
   ]
  },
  {
   "cell_type": "code",
   "execution_count": 1,
   "metadata": {
    "collapsed": true
   },
   "outputs": [],
   "source": [
    "from __future__ import print_function\n",
    "\n",
    "import numpy as np\n",
    "import pandas as pd\n",
    "from patsy import dmatrix"
   ]
  },
  {
   "cell_type": "code",
   "execution_count": 2,
   "metadata": {
    "collapsed": true
   },
   "outputs": [],
   "source": [
    "# Standard to run UrbanSim from the root level of the project directory\n",
    "\n",
    "import os; os.chdir('../')"
   ]
  },
  {
   "cell_type": "code",
   "execution_count": 3,
   "metadata": {
    "collapsed": false
   },
   "outputs": [
    {
     "name": "stderr",
     "output_type": "stream",
     "text": [
      "/Users/maurer/anaconda/lib/python3.6/site-packages/statsmodels/compat/pandas.py:56: FutureWarning: The pandas.core.datetools module is deprecated and will be removed in a future version. Please use the pandas.tseries module instead.\n",
      "  from pandas.core import datetools\n"
     ]
    }
   ],
   "source": [
    "from urbansim_templates import modelmanager as mm\n",
    "from urbansim_templates.models import MNLDiscreteChoiceStep\n",
    "import orca"
   ]
  },
  {
   "cell_type": "markdown",
   "metadata": {},
   "source": [
    "## Bootstrap Orca with some legacy registrations\n",
    "\n",
    "This exercise starts from a point where data is already registered in Orca. For now, we're using a small San Diego dataset that Paul Sohn put together (see [urbansim_parcels](https://github.com/urbansim/urbansim_parcels)). \n",
    "\n",
    "Importing 'datasources.py' and 'models.py' from the 'legacy' directory registers a handful of Orca objects."
   ]
  },
  {
   "cell_type": "code",
   "execution_count": 4,
   "metadata": {
    "collapsed": true
   },
   "outputs": [],
   "source": [
    "import legacy_datasources\n",
    "import legacy_models"
   ]
  },
  {
   "cell_type": "markdown",
   "metadata": {},
   "source": [
    "## Explore the Orca registrations"
   ]
  },
  {
   "cell_type": "code",
   "execution_count": 5,
   "metadata": {
    "collapsed": false
   },
   "outputs": [
    {
     "data": {
      "text/plain": [
       "['households', 'buildings', 'parcels', 'jobs']"
      ]
     },
     "execution_count": 5,
     "metadata": {},
     "output_type": "execute_result"
    }
   ],
   "source": [
    "orca.list_tables()"
   ]
  },
  {
   "cell_type": "code",
   "execution_count": 6,
   "metadata": {
    "collapsed": false
   },
   "outputs": [
    {
     "data": {
      "text/plain": [
       "[('households', 'node_id'), ('buildings', 'node_id'), ('jobs', 'node_id')]"
      ]
     },
     "execution_count": 6,
     "metadata": {},
     "output_type": "execute_result"
    }
   ],
   "source": [
    "orca.list_columns()"
   ]
  },
  {
   "cell_type": "code",
   "execution_count": 7,
   "metadata": {
    "collapsed": false
   },
   "outputs": [
    {
     "data": {
      "text/plain": [
       "[('parcels', 'buildings'),\n",
       " ('buildings', 'households'),\n",
       " ('buildings', 'jobs'),\n",
       " ('nodes', 'buildings')]"
      ]
     },
     "execution_count": 7,
     "metadata": {},
     "output_type": "execute_result"
    }
   ],
   "source": [
    "orca.list_broadcasts()"
   ]
  },
  {
   "cell_type": "code",
   "execution_count": 8,
   "metadata": {
    "collapsed": false
   },
   "outputs": [
    {
     "data": {
      "text/plain": [
       "['settings', 'store', 'net_store']"
      ]
     },
     "execution_count": 8,
     "metadata": {},
     "output_type": "execute_result"
    }
   ],
   "source": [
    "orca.list_injectables()"
   ]
  },
  {
   "cell_type": "code",
   "execution_count": 9,
   "metadata": {
    "collapsed": false
   },
   "outputs": [
    {
     "data": {
      "text/plain": [
       "['hlcm1',\n",
       " None,\n",
       " 'test-2',\n",
       " 'test-1',\n",
       " 'RegressionStep-20180214-210159',\n",
       " 'BinaryLogitStep-20180314-211201',\n",
       " 'BinaryLogitStep-20180314-213137',\n",
       " 'build_networks',\n",
       " 'neighborhood_vars']"
      ]
     },
     "execution_count": 9,
     "metadata": {},
     "output_type": "execute_result"
    }
   ],
   "source": [
    "orca.list_steps()"
   ]
  },
  {
   "cell_type": "markdown",
   "metadata": {},
   "source": [
    "## Explore the data\n",
    "\n",
    "Orca doesn't execute code to load the registered objects until it needs to.\n",
    "\n",
    "(Note that there's a problem in the data: only about 2,000 buildings have a 'node_id' linking them to the network aggregations table. This is going to affect the network calculations, and also limit our ability to estimate models.)"
   ]
  },
  {
   "cell_type": "code",
   "execution_count": 10,
   "metadata": {
    "collapsed": false
   },
   "outputs": [
    {
     "data": {
      "text/html": [
       "<div>\n",
       "<style scoped>\n",
       "    .dataframe tbody tr th:only-of-type {\n",
       "        vertical-align: middle;\n",
       "    }\n",
       "\n",
       "    .dataframe tbody tr th {\n",
       "        vertical-align: top;\n",
       "    }\n",
       "\n",
       "    .dataframe thead th {\n",
       "        text-align: right;\n",
       "    }\n",
       "</style>\n",
       "<table border=\"1\" class=\"dataframe\">\n",
       "  <thead>\n",
       "    <tr style=\"text-align: right;\">\n",
       "      <th></th>\n",
       "      <th>parcel_id</th>\n",
       "      <th>development_type_id</th>\n",
       "      <th>improvement_value</th>\n",
       "      <th>residential_units</th>\n",
       "      <th>non_residential_sqft</th>\n",
       "      <th>stories</th>\n",
       "      <th>year_built</th>\n",
       "      <th>residential_sqft</th>\n",
       "      <th>res_price_per_sqft</th>\n",
       "      <th>node_id</th>\n",
       "    </tr>\n",
       "  </thead>\n",
       "  <tbody>\n",
       "    <tr>\n",
       "      <th>count</th>\n",
       "      <td>5.917200e+04</td>\n",
       "      <td>59172.000000</td>\n",
       "      <td>5.917200e+04</td>\n",
       "      <td>59172.000000</td>\n",
       "      <td>5.917200e+04</td>\n",
       "      <td>59172.000000</td>\n",
       "      <td>59172.000000</td>\n",
       "      <td>5.917200e+04</td>\n",
       "      <td>59172.000000</td>\n",
       "      <td>2182.000000</td>\n",
       "    </tr>\n",
       "    <tr>\n",
       "      <th>mean</th>\n",
       "      <td>1.824953e+06</td>\n",
       "      <td>19.335733</td>\n",
       "      <td>5.938045e+05</td>\n",
       "      <td>3.662661</td>\n",
       "      <td>8.495205e+03</td>\n",
       "      <td>1.081170</td>\n",
       "      <td>1979.705486</td>\n",
       "      <td>1.303178e+04</td>\n",
       "      <td>214.760125</td>\n",
       "      <td>44284.095325</td>\n",
       "    </tr>\n",
       "    <tr>\n",
       "      <th>std</th>\n",
       "      <td>2.138605e+06</td>\n",
       "      <td>0.663925</td>\n",
       "      <td>2.823604e+06</td>\n",
       "      <td>13.734032</td>\n",
       "      <td>4.363458e+04</td>\n",
       "      <td>0.381794</td>\n",
       "      <td>20.675804</td>\n",
       "      <td>4.544811e+04</td>\n",
       "      <td>317.965487</td>\n",
       "      <td>4104.251504</td>\n",
       "    </tr>\n",
       "    <tr>\n",
       "      <th>min</th>\n",
       "      <td>2.900000e+01</td>\n",
       "      <td>19.000000</td>\n",
       "      <td>0.000000e+00</td>\n",
       "      <td>1.000000</td>\n",
       "      <td>0.000000e+00</td>\n",
       "      <td>1.000000</td>\n",
       "      <td>1913.000000</td>\n",
       "      <td>5.000000e+01</td>\n",
       "      <td>0.000220</td>\n",
       "      <td>36360.000000</td>\n",
       "    </tr>\n",
       "    <tr>\n",
       "      <th>25%</th>\n",
       "      <td>2.894475e+05</td>\n",
       "      <td>19.000000</td>\n",
       "      <td>1.071312e+05</td>\n",
       "      <td>1.000000</td>\n",
       "      <td>0.000000e+00</td>\n",
       "      <td>1.000000</td>\n",
       "      <td>1965.000000</td>\n",
       "      <td>1.472000e+03</td>\n",
       "      <td>133.098672</td>\n",
       "      <td>41131.000000</td>\n",
       "    </tr>\n",
       "    <tr>\n",
       "      <th>50%</th>\n",
       "      <td>5.873640e+05</td>\n",
       "      <td>19.000000</td>\n",
       "      <td>1.750000e+05</td>\n",
       "      <td>1.000000</td>\n",
       "      <td>0.000000e+00</td>\n",
       "      <td>1.000000</td>\n",
       "      <td>1981.000000</td>\n",
       "      <td>2.122000e+03</td>\n",
       "      <td>191.676955</td>\n",
       "      <td>43936.500000</td>\n",
       "    </tr>\n",
       "    <tr>\n",
       "      <th>75%</th>\n",
       "      <td>5.032626e+06</td>\n",
       "      <td>19.000000</td>\n",
       "      <td>3.022590e+05</td>\n",
       "      <td>1.000000</td>\n",
       "      <td>0.000000e+00</td>\n",
       "      <td>1.000000</td>\n",
       "      <td>1998.000000</td>\n",
       "      <td>3.601000e+03</td>\n",
       "      <td>258.776213</td>\n",
       "      <td>47438.000000</td>\n",
       "    </tr>\n",
       "    <tr>\n",
       "      <th>max</th>\n",
       "      <td>5.293696e+06</td>\n",
       "      <td>21.000000</td>\n",
       "      <td>1.800000e+08</td>\n",
       "      <td>679.000000</td>\n",
       "      <td>1.197079e+06</td>\n",
       "      <td>29.000000</td>\n",
       "      <td>2012.000000</td>\n",
       "      <td>1.197079e+06</td>\n",
       "      <td>21770.833333</td>\n",
       "      <td>52513.000000</td>\n",
       "    </tr>\n",
       "  </tbody>\n",
       "</table>\n",
       "</div>"
      ],
      "text/plain": [
       "          parcel_id  development_type_id  improvement_value  \\\n",
       "count  5.917200e+04         59172.000000       5.917200e+04   \n",
       "mean   1.824953e+06            19.335733       5.938045e+05   \n",
       "std    2.138605e+06             0.663925       2.823604e+06   \n",
       "min    2.900000e+01            19.000000       0.000000e+00   \n",
       "25%    2.894475e+05            19.000000       1.071312e+05   \n",
       "50%    5.873640e+05            19.000000       1.750000e+05   \n",
       "75%    5.032626e+06            19.000000       3.022590e+05   \n",
       "max    5.293696e+06            21.000000       1.800000e+08   \n",
       "\n",
       "       residential_units  non_residential_sqft       stories    year_built  \\\n",
       "count       59172.000000          5.917200e+04  59172.000000  59172.000000   \n",
       "mean            3.662661          8.495205e+03      1.081170   1979.705486   \n",
       "std            13.734032          4.363458e+04      0.381794     20.675804   \n",
       "min             1.000000          0.000000e+00      1.000000   1913.000000   \n",
       "25%             1.000000          0.000000e+00      1.000000   1965.000000   \n",
       "50%             1.000000          0.000000e+00      1.000000   1981.000000   \n",
       "75%             1.000000          0.000000e+00      1.000000   1998.000000   \n",
       "max           679.000000          1.197079e+06     29.000000   2012.000000   \n",
       "\n",
       "       residential_sqft  res_price_per_sqft       node_id  \n",
       "count      5.917200e+04        59172.000000   2182.000000  \n",
       "mean       1.303178e+04          214.760125  44284.095325  \n",
       "std        4.544811e+04          317.965487   4104.251504  \n",
       "min        5.000000e+01            0.000220  36360.000000  \n",
       "25%        1.472000e+03          133.098672  41131.000000  \n",
       "50%        2.122000e+03          191.676955  43936.500000  \n",
       "75%        3.601000e+03          258.776213  47438.000000  \n",
       "max        1.197079e+06        21770.833333  52513.000000  "
      ]
     },
     "execution_count": 10,
     "metadata": {},
     "output_type": "execute_result"
    }
   ],
   "source": [
    "orca.get_table('buildings').to_frame().describe()"
   ]
  },
  {
   "cell_type": "code",
   "execution_count": 11,
   "metadata": {
    "collapsed": false
   },
   "outputs": [
    {
     "name": "stdout",
     "output_type": "stream",
     "text": [
      "10\n",
      "11\n"
     ]
    }
   ],
   "source": [
    "print(len(orca.get_table('buildings').local_columns))  # native columns only\n",
    "print(len(orca.get_table('buildings').to_frame().columns))  # native plus virtual"
   ]
  },
  {
   "cell_type": "markdown",
   "metadata": {},
   "source": [
    "## Generate accessibility measures for the choice model\n",
    "\n",
    "The network accessibility metrics are not stored on disk; for now we'll generate them using legacy code."
   ]
  },
  {
   "cell_type": "code",
   "execution_count": 12,
   "metadata": {
    "collapsed": false
   },
   "outputs": [
    {
     "name": "stdout",
     "output_type": "stream",
     "text": [
      "Running step 'build_networks'\n",
      "Time to execute step 'build_networks': 0.29 s\n",
      "Total time to execute iteration 1 with iteration value None: 0.29 s\n"
     ]
    }
   ],
   "source": [
    "orca.run(['build_networks'])"
   ]
  },
  {
   "cell_type": "code",
   "execution_count": 13,
   "metadata": {
    "collapsed": true
   },
   "outputs": [],
   "source": [
    "%%capture\n",
    "orca.run(['neighborhood_vars'])"
   ]
  },
  {
   "cell_type": "code",
   "execution_count": 14,
   "metadata": {
    "collapsed": false
   },
   "outputs": [
    {
     "data": {
      "text/plain": [
       "['households', 'buildings', 'parcels', 'jobs', 'nodes']"
      ]
     },
     "execution_count": 14,
     "metadata": {},
     "output_type": "execute_result"
    }
   ],
   "source": [
    "orca.list_tables()"
   ]
  },
  {
   "cell_type": "code",
   "execution_count": 15,
   "metadata": {
    "collapsed": false
   },
   "outputs": [
    {
     "name": "stdout",
     "output_type": "stream",
     "text": [
      "['parcel_id', 'development_type_id', 'improvement_value', 'residential_units', 'non_residential_sqft', 'stories', 'year_built', 'residential_sqft', 'note', 'res_price_per_sqft', 'node_id']\n"
     ]
    }
   ],
   "source": [
    "print(orca.get_table('buildings').to_frame().columns.tolist())"
   ]
  },
  {
   "cell_type": "markdown",
   "metadata": {
    "collapsed": true
   },
   "source": [
    "## Display all the registered data columns"
   ]
  },
  {
   "cell_type": "code",
   "execution_count": 16,
   "metadata": {
    "collapsed": false
   },
   "outputs": [
    {
     "name": "stdout",
     "output_type": "stream",
     "text": [
      "HOUSEHOLDS\n",
      "['building_id', 'tenure', 'persons', 'workers', 'age_of_head', 'income', 'children', 'race_id', 'cars', 'base_luz', 'segmentation_col', 'node_id']\n",
      "\n",
      "BUILDINGS\n",
      "['parcel_id', 'development_type_id', 'improvement_value', 'residential_units', 'non_residential_sqft', 'stories', 'year_built', 'residential_sqft', 'note', 'res_price_per_sqft', 'node_id']\n",
      "\n",
      "PARCELS\n",
      "['zoning_id', 'mgra_id', 'luz_id', 'taz_id', 'y', 'distance_to_freeway', 'node_id', 'distance_to_park', 'msa_id', 'county_id', 'land_value', 'distance_to_onramp', 'parcel_acres', 'tax_exempt', 'acres', 'distance_to_school', 'proportion_undevelopable', 'distance_to_transit', 'distance_to_coast', 'development_type_id', 'x']\n",
      "\n",
      "JOBS\n",
      "['sector_id', 'building_id', 'node_id']\n",
      "\n",
      "NODES\n",
      "['ave_parcel_size', 'jobs_1500m', 'jobs_800m', 'jobs_400m', 'ave_income', 'ave_age_of_head_1500m', 'ave_children_1500m', 'ave_year_built_1500m', 'population_400m', 'jobs_3000m', 'households_3000m', 'residential_units_3000m', 'residential_units_1500m', 'residential_units_800m']\n",
      "\n"
     ]
    }
   ],
   "source": [
    "for table_name in orca.list_tables():\n",
    "    print(table_name.upper())\n",
    "    print(orca.get_table(table_name).to_frame().columns.tolist())\n",
    "    print()"
   ]
  },
  {
   "cell_type": "code",
   "execution_count": 17,
   "metadata": {
    "collapsed": false
   },
   "outputs": [
    {
     "data": {
      "text/plain": [
       "[('parcels', 'buildings'),\n",
       " ('buildings', 'households'),\n",
       " ('buildings', 'jobs'),\n",
       " ('nodes', 'buildings')]"
      ]
     },
     "execution_count": 17,
     "metadata": {},
     "output_type": "execute_result"
    }
   ],
   "source": [
    "# These are the tables with direct relational links\n",
    "\n",
    "orca.list_broadcasts()"
   ]
  },
  {
   "cell_type": "markdown",
   "metadata": {},
   "source": [
    "# Estimate a choice model\n",
    "\n",
    "The basic idea of the parcel template is that we create model steps by _passing arguments to classes_ rather than by writing Python functions and giving them Orca decorators, as we would for a fully custom model.\n",
    "\n",
    "Much of the functionality for this is already built into UrbanSim and Orca, we'll just need to extend things here and there.\n",
    "\n",
    "This demo uses a new MNLDiscreteChoice() class that provides a full model development workflow: estimating a model, registering it with Orca, saving it for future use."
   ]
  },
  {
   "cell_type": "markdown",
   "metadata": {},
   "source": [
    "### Specify parameters and pass them to a model object"
   ]
  },
  {
   "cell_type": "code",
   "execution_count": 18,
   "metadata": {
    "collapsed": true
   },
   "outputs": [],
   "source": [
    "# Specify the model expression and names of tables to draw data from (the first table\n",
    "# is the primary one; additional tables must be able to merge onto it unambiguously)\n",
    "\n",
    "choosers = 'households'\n",
    "alternatives=['buildings', 'nodes']\n",
    "current_choice = 'building_id'\n",
    "\n",
    "model_expression = (\"res_price_per_sqft + jobs_1500m\")\n",
    "\n",
    "\n",
    "# Give the prospective model step some tags, and a name if desired\n",
    "\n",
    "name = 'hlcm1'\n",
    "tags = ['hlcm', 'max', '201802']\n",
    "\n",
    "\n",
    "# For prediction, specify destination column (if different from the dependent variable\n",
    "# used for estimation), and how to reverse the left-hand-side transformation\n",
    "\n",
    "out_fname = 'fitted_hlcm'"
   ]
  },
  {
   "cell_type": "code",
   "execution_count": 19,
   "metadata": {
    "collapsed": true
   },
   "outputs": [],
   "source": [
    "# Generate a new column to store the fitted household location id\n",
    "zeros = np.repeat(0.0, len(orca.get_table(choosers)))\n",
    "orca.get_table('households').update_col('fitted_hlcm', zeros)"
   ]
  },
  {
   "cell_type": "code",
   "execution_count": 20,
   "metadata": {
    "collapsed": true
   },
   "outputs": [],
   "source": [
    "# Create the model object\n",
    "model = MNLDiscreteChoiceStep(model_expression, choosers=choosers, alternatives=alternatives,\n",
    "                              sample_size=50, name=name, tags=tags, out_fname=out_fname)"
   ]
  },
  {
   "cell_type": "markdown",
   "metadata": {},
   "source": [
    "### Fit the model"
   ]
  },
  {
   "cell_type": "code",
   "execution_count": 21,
   "metadata": {
    "collapsed": false
   },
   "outputs": [
    {
     "name": "stderr",
     "output_type": "stream",
     "text": [
      "/Users/maurer/Dropbox/Git-imac/udst/urbansim/urbansim/urbanchoice/interaction.py:83: SettingWithCopyWarning: \n",
      "A value is trying to be set on a copy of a slice from a DataFrame.\n",
      "Try using .loc[row_indexer,col_indexer] = value instead\n",
      "\n",
      "See the caveats in the documentation: http://pandas.pydata.org/pandas-docs/stable/indexing.html#indexing-view-versus-copy\n",
      "  alts_sample['join_index'] = np.repeat(choosers.index.values, SAMPLE_SIZE)\n"
     ]
    },
    {
     "name": "stdout",
     "output_type": "stream",
     "text": [
      "Null Log-liklihood: -39898.723\n",
      "Log-liklihood at convergence: -34575.487\n",
      "Log-liklihood Ratio: 0.133\n",
      "\n",
      "+--------------------+-------------+------------+----------+\n",
      "| Component          | Coefficient | Std. Error | T-Score  |\n",
      "+--------------------+-------------+------------+----------+\n",
      "| res_price_per_sqft |    -0.007   |   0.000    | -108.411 |\n",
      "| jobs_1500m         |    0.346    |   0.008    |  42.316  |\n",
      "+--------------------+-------------+------------+----------+\n",
      "None\n"
     ]
    }
   ],
   "source": [
    "model.fit(choosers, alternatives, current_choice)"
   ]
  },
  {
   "cell_type": "markdown",
   "metadata": {},
   "source": [
    "### If we like it, register it as an Orca step"
   ]
  },
  {
   "cell_type": "code",
   "execution_count": 22,
   "metadata": {
    "collapsed": true
   },
   "outputs": [],
   "source": [
    "model.register()"
   ]
  },
  {
   "cell_type": "code",
   "execution_count": null,
   "metadata": {
    "collapsed": false
   },
   "outputs": [
    {
     "data": {
      "text/plain": [
       "['hlcm1',\n",
       " None,\n",
       " 'test-2',\n",
       " 'test-1',\n",
       " 'RegressionStep-20180214-210159',\n",
       " 'BinaryLogitStep-20180314-211201',\n",
       " 'BinaryLogitStep-20180314-213137',\n",
       " 'build_networks',\n",
       " 'neighborhood_vars']"
      ]
     },
     "execution_count": 23,
     "metadata": {},
     "output_type": "execute_result"
    }
   ],
   "source": [
    "orca.list_steps()"
   ]
  },
  {
   "cell_type": "markdown",
   "metadata": {},
   "source": [
    "### Run the Orca step"
   ]
  },
  {
   "cell_type": "code",
   "execution_count": null,
   "metadata": {
    "collapsed": false
   },
   "outputs": [
    {
     "name": "stdout",
     "output_type": "stream",
     "text": [
      "Running step 'hlcm1'\n"
     ]
    },
    {
     "name": "stderr",
     "output_type": "stream",
     "text": [
      "/Users/maurer/Dropbox/Git-imac/udst/urbansim/urbansim/urbanchoice/interaction.py:83: SettingWithCopyWarning: \n",
      "A value is trying to be set on a copy of a slice from a DataFrame.\n",
      "Try using .loc[row_indexer,col_indexer] = value instead\n",
      "\n",
      "See the caveats in the documentation: http://pandas.pydata.org/pandas-docs/stable/indexing.html#indexing-view-versus-copy\n",
      "  alts_sample['join_index'] = np.repeat(choosers.index.values, SAMPLE_SIZE)\n"
     ]
    }
   ],
   "source": [
    "orca.run(['hlcm1'])"
   ]
  },
  {
   "cell_type": "markdown",
   "metadata": {},
   "source": [
    "### Check the fitted values"
   ]
  },
  {
   "cell_type": "code",
   "execution_count": null,
   "metadata": {
    "collapsed": false
   },
   "outputs": [],
   "source": [
    "df = orca.get_table(choosers).to_frame(['building_id', 'fitted_hlcm'])\n",
    "df.loc[df.fitted_hlcm > 0].describe()"
   ]
  },
  {
   "cell_type": "markdown",
   "metadata": {},
   "source": [
    "### BONUS\n",
    "\n",
    "Running \"model.register()\" also registered the step with the new ModelManager extention, which saves it to disk so that it can be automatically re-loaded in the future.\n",
    "\n",
    "The \"test\" model steps here were estimated earlier and loaded from disk. They're fully functional: we can run them in Orca, inspect the estimation results, etc."
   ]
  },
  {
   "cell_type": "code",
   "execution_count": null,
   "metadata": {
    "collapsed": false
   },
   "outputs": [],
   "source": [
    "mm.list_steps()"
   ]
  },
  {
   "cell_type": "code",
   "execution_count": null,
   "metadata": {
    "collapsed": false
   },
   "outputs": [],
   "source": [
    "rs = mm.get_step('hlcm1')\n",
    "type(rs)"
   ]
  },
  {
   "cell_type": "code",
   "execution_count": null,
   "metadata": {
    "collapsed": false
   },
   "outputs": [],
   "source": [
    "rs.model_expression"
   ]
  },
  {
   "cell_type": "code",
   "execution_count": null,
   "metadata": {
    "collapsed": false
   },
   "outputs": [],
   "source": [
    "rs.model.report_fit()"
   ]
  }
 ],
 "metadata": {
  "anaconda-cloud": {},
  "kernelspec": {
   "display_name": "Python 3",
   "language": "python",
   "name": "python3"
  },
  "language_info": {
   "codemirror_mode": {
    "name": "ipython",
    "version": 3
   },
   "file_extension": ".py",
   "mimetype": "text/x-python",
   "name": "python",
   "nbconvert_exporter": "python",
   "pygments_lexer": "ipython3",
   "version": "3.6.4"
  }
 },
 "nbformat": 4,
 "nbformat_minor": 2
}
